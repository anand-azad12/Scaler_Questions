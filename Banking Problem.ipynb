{
 "cells": [
  {
   "cell_type": "code",
   "execution_count": 34,
   "id": "334efcb5",
   "metadata": {},
   "outputs": [
    {
     "ename": "IndentationError",
     "evalue": "unexpected indent (Temp/ipykernel_14072/4028598358.py, line 2)",
     "output_type": "error",
     "traceback": [
      "\u001b[1;36m  File \u001b[1;32m\"C:\\Users\\TESTBOOK\\AppData\\Local\\Temp/ipykernel_14072/4028598358.py\"\u001b[1;36m, line \u001b[1;32m2\u001b[0m\n\u001b[1;33m    def type()\u001b[0m\n\u001b[1;37m    ^\u001b[0m\n\u001b[1;31mIndentationError\u001b[0m\u001b[1;31m:\u001b[0m unexpected indent\n"
     ]
    }
   ],
   "source": [
    " Bal,op,add,sub= int(input().split(\"\\n\"))\n",
    "  def type()\n",
    "    n==op\n",
    "      while n<=op\n",
    "        if type==1:\n",
    "          bal= bal + add\n",
    "          print (bal)\n",
    "        elif type==2:\n",
    "          bal= bal - sub\n",
    "          print (bal)\n",
    "        else:\n",
    "          print(Insufficient Funds)\n",
    "        n = n-1         \n",
    "        "
   ]
  },
  {
   "cell_type": "code",
   "execution_count": null,
   "id": "6acba2b6",
   "metadata": {},
   "outputs": [],
   "source": []
  },
  {
   "cell_type": "code",
   "execution_count": null,
   "id": "f44b3c55",
   "metadata": {},
   "outputs": [],
   "source": []
  },
  {
   "cell_type": "code",
   "execution_count": 11,
   "id": "2c9753d4",
   "metadata": {},
   "outputs": [
    {
     "ename": "SyntaxError",
     "evalue": "invalid syntax (Temp/ipykernel_14072/1404053650.py, line 5)",
     "output_type": "error",
     "traceback": [
      "\u001b[1;36m  File \u001b[1;32m\"C:\\Users\\TESTBOOK\\AppData\\Local\\Temp/ipykernel_14072/1404053650.py\"\u001b[1;36m, line \u001b[1;32m5\u001b[0m\n\u001b[1;33m    print(i*i, end\"\\n\")\u001b[0m\n\u001b[1;37m                  ^\u001b[0m\n\u001b[1;31mSyntaxError\u001b[0m\u001b[1;31m:\u001b[0m invalid syntax\n"
     ]
    }
   ],
   "source": [
    "if __name__ == '__main__':\n",
    "   \n",
    "    i==0\n",
    "    while i < n :  \n",
    "        print(i*i, end\"\\n\")\n",
    "    # Increment the value of the variable \"number by 1\"\n",
    "    i== i+1\n"
   ]
  },
  {
   "cell_type": "code",
   "execution_count": 31,
   "id": "56c0c774",
   "metadata": {},
   "outputs": [
    {
     "name": "stdout",
     "output_type": "stream",
     "text": [
      "5\n",
      "1\n",
      "1\n",
      "4\n",
      "9\n",
      "16\n",
      "25\n"
     ]
    }
   ],
   "source": [
    "# Take user input\n",
    "n= int(input())\n",
    "i= int(input())\n",
    "#Initialize i\n",
    "# Condition of the while loop\n",
    "while i <= n : \n",
    "    Sqr= i*i;\n",
    "    print(Sqr)\n",
    "    # Increment the value of the variable \"number by 1\"\n",
    "    i = i +1"
   ]
  },
  {
   "cell_type": "code",
   "execution_count": 27,
   "id": "983b46e4",
   "metadata": {},
   "outputs": [
    {
     "ename": "SyntaxError",
     "evalue": "EOL while scanning string literal (Temp/ipykernel_14072/1274698825.py, line 2)",
     "output_type": "error",
     "traceback": [
      "\u001b[1;36m  File \u001b[1;32m\"C:\\Users\\TESTBOOK\\AppData\\Local\\Temp/ipykernel_14072/1274698825.py\"\u001b[1;36m, line \u001b[1;32m2\u001b[0m\n\u001b[1;33m    i'= i*i\u001b[0m\n\u001b[1;37m           ^\u001b[0m\n\u001b[1;31mSyntaxError\u001b[0m\u001b[1;31m:\u001b[0m EOL while scanning string literal\n"
     ]
    }
   ],
   "source": [
    "i=0\n",
    "i'= i*i\n",
    "print (i)"
   ]
  },
  {
   "cell_type": "code",
   "execution_count": 33,
   "id": "82de348f",
   "metadata": {},
   "outputs": [
    {
     "name": "stdout",
     "output_type": "stream",
     "text": [
      "5\n"
     ]
    },
    {
     "ename": "TypeError",
     "evalue": "int() argument must be a string, a bytes-like object or a number, not 'list'",
     "output_type": "error",
     "traceback": [
      "\u001b[1;31m---------------------------------------------------------------------------\u001b[0m",
      "\u001b[1;31mTypeError\u001b[0m                                 Traceback (most recent call last)",
      "\u001b[1;32m~\\AppData\\Local\\Temp/ipykernel_14072/1717164416.py\u001b[0m in \u001b[0;36m<module>\u001b[1;34m\u001b[0m\n\u001b[1;32m----> 1\u001b[1;33m \u001b[0mn\u001b[0m\u001b[1;33m,\u001b[0m\u001b[0mi\u001b[0m\u001b[1;33m=\u001b[0m \u001b[0mint\u001b[0m\u001b[1;33m(\u001b[0m\u001b[0minput\u001b[0m\u001b[1;33m(\u001b[0m\u001b[1;33m)\u001b[0m\u001b[1;33m.\u001b[0m\u001b[0msplit\u001b[0m\u001b[1;33m(\u001b[0m\u001b[1;34m\"\\n\"\u001b[0m\u001b[1;33m)\u001b[0m\u001b[1;33m)\u001b[0m\u001b[1;33m\u001b[0m\u001b[1;33m\u001b[0m\u001b[0m\n\u001b[0m\u001b[0;32m      2\u001b[0m \u001b[1;33m\u001b[0m\u001b[0m\n\u001b[0;32m      3\u001b[0m \u001b[1;31m#Initialize i\u001b[0m\u001b[1;33m\u001b[0m\u001b[1;33m\u001b[0m\u001b[0m\n\u001b[0;32m      4\u001b[0m \u001b[1;31m# Condition of the while loop\u001b[0m\u001b[1;33m\u001b[0m\u001b[1;33m\u001b[0m\u001b[0m\n\u001b[0;32m      5\u001b[0m \u001b[1;32mwhile\u001b[0m \u001b[0mi\u001b[0m \u001b[1;33m<=\u001b[0m \u001b[0mn\u001b[0m \u001b[1;33m:\u001b[0m\u001b[1;33m\u001b[0m\u001b[1;33m\u001b[0m\u001b[0m\n",
      "\u001b[1;31mTypeError\u001b[0m: int() argument must be a string, a bytes-like object or a number, not 'list'"
     ]
    }
   ],
   "source": [
    "n,i= int(input().split(\"\\n\"))\n",
    "\n",
    "#Initialize i\n",
    "# Condition of the while loop\n",
    "while i <= n : \n",
    "    Sqr= i*i;\n",
    "    print(Sqr)\n",
    "    # Increment the value of the variable \"number by 1\"\n",
    "    i = i +1"
   ]
  },
  {
   "cell_type": "code",
   "execution_count": 59,
   "id": "f166567a",
   "metadata": {},
   "outputs": [
    {
     "ename": "IndentationError",
     "evalue": "expected an indented block (Temp/ipykernel_14072/4149321998.py, line 11)",
     "output_type": "error",
     "traceback": [
      "\u001b[1;36m  File \u001b[1;32m\"C:\\Users\\TESTBOOK\\AppData\\Local\\Temp/ipykernel_14072/4149321998.py\"\u001b[1;36m, line \u001b[1;32m11\u001b[0m\n\u001b[1;33m    print(Insufficient Funds)\u001b[0m\n\u001b[1;37m    ^\u001b[0m\n\u001b[1;31mIndentationError\u001b[0m\u001b[1;31m:\u001b[0m expected an indented block\n"
     ]
    }
   ],
   "source": []
  },
  {
   "cell_type": "code",
   "execution_count": 51,
   "id": "fea73f33",
   "metadata": {},
   "outputs": [
    {
     "ename": "IndentationError",
     "evalue": "unindent does not match any outer indentation level (<tokenize>, line 4)",
     "output_type": "error",
     "traceback": [
      "\u001b[1;36m  File \u001b[1;32m\"<tokenize>\"\u001b[1;36m, line \u001b[1;32m4\u001b[0m\n\u001b[1;33m    while n<=op\u001b[0m\n\u001b[1;37m    ^\u001b[0m\n\u001b[1;31mIndentationError\u001b[0m\u001b[1;31m:\u001b[0m unindent does not match any outer indentation level\n"
     ]
    }
   ],
   "source": [
    "    Bal,op,add,sub= int(input().split(\"\\n\"))\n",
    "    def type(n):\n",
    "          n==op\n",
    "        while n<=op\n",
    "            if type==1:\n",
    "              bal= bal + add\n",
    "              print (bal)\n",
    "        elif type==2:\n",
    "          bal= bal - sub\n",
    "          print (bal)\n",
    "        else:\n",
    "          print(Insufficient Funds)\n",
    "        n = n-1"
   ]
  },
  {
   "cell_type": "code",
   "execution_count": 57,
   "id": "3b48681e",
   "metadata": {},
   "outputs": [
    {
     "name": "stdout",
     "output_type": "stream",
     "text": [
      "0\n",
      "1\n",
      "2\n",
      "3\n",
      "4\n",
      "5\n",
      "6\n",
      "7\n",
      "8\n",
      "9\n"
     ]
    }
   ],
   "source": [
    "for i in range(10):\n",
    "    print(i,end=\"\\n\")\n"
   ]
  },
  {
   "cell_type": "code",
   "execution_count": 62,
   "id": "a1b203ab",
   "metadata": {},
   "outputs": [
    {
     "ename": "SyntaxError",
     "evalue": "invalid syntax (Temp/ipykernel_14072/1352045808.py, line 11)",
     "output_type": "error",
     "traceback": [
      "\u001b[1;36m  File \u001b[1;32m\"C:\\Users\\TESTBOOK\\AppData\\Local\\Temp/ipykernel_14072/1352045808.py\"\u001b[1;36m, line \u001b[1;32m11\u001b[0m\n\u001b[1;33m    print(Insufficient Funds)\u001b[0m\n\u001b[1;37m                       ^\u001b[0m\n\u001b[1;31mSyntaxError\u001b[0m\u001b[1;31m:\u001b[0m invalid syntax\n"
     ]
    }
   ],
   "source": [
    "Bal,op,add,sub= int(input().split(\"\\n\"))\n",
    "n==op \n",
    "for n in range(op):\n",
    "        if type==1:\n",
    "            bal= bal + add\n",
    "            print (bal)\n",
    "        elif type==2:\n",
    "            bal= bal - sub\n",
    "            print (bal)\n",
    "        else:\n",
    "            print(Insufficient Funds)\n",
    "        n = n-1        \n",
    "        "
   ]
  },
  {
   "cell_type": "code",
   "execution_count": 3,
   "id": "ea1456bf",
   "metadata": {},
   "outputs": [
    {
     "name": "stdout",
     "output_type": "stream",
     "text": [
      "500\n",
      "3\n",
      "2 500\n"
     ]
    },
    {
     "ename": "NameError",
     "evalue": "name 'trasaction' is not defined",
     "output_type": "error",
     "traceback": [
      "\u001b[1;31m---------------------------------------------------------------------------\u001b[0m",
      "\u001b[1;31mNameError\u001b[0m                                 Traceback (most recent call last)",
      "\u001b[1;32m~\\AppData\\Local\\Temp/ipykernel_14696/4089883650.py\u001b[0m in \u001b[0;36m<module>\u001b[1;34m\u001b[0m\n\u001b[0;32m      3\u001b[0m \u001b[1;32mfor\u001b[0m \u001b[0mnum\u001b[0m \u001b[1;32min\u001b[0m \u001b[0mrange\u001b[0m \u001b[1;33m(\u001b[0m\u001b[0moperation\u001b[0m\u001b[1;33m)\u001b[0m\u001b[1;33m:\u001b[0m\u001b[1;33m\u001b[0m\u001b[1;33m\u001b[0m\u001b[0m\n\u001b[0;32m      4\u001b[0m     \u001b[0mval\u001b[0m\u001b[1;33m,\u001b[0m\u001b[0mtransaction\u001b[0m \u001b[1;33m=\u001b[0m \u001b[0minput\u001b[0m\u001b[1;33m(\u001b[0m\u001b[1;33m)\u001b[0m\u001b[1;33m.\u001b[0m\u001b[0msplit\u001b[0m\u001b[1;33m(\u001b[0m\u001b[1;33m)\u001b[0m\u001b[1;33m\u001b[0m\u001b[1;33m\u001b[0m\u001b[0m\n\u001b[1;32m----> 5\u001b[1;33m     \u001b[0mval\u001b[0m\u001b[1;33m,\u001b[0m\u001b[0mtrasaction\u001b[0m \u001b[1;33m=\u001b[0m \u001b[0mint\u001b[0m\u001b[1;33m(\u001b[0m\u001b[0mval\u001b[0m\u001b[1;33m)\u001b[0m\u001b[1;33m,\u001b[0m \u001b[0mint\u001b[0m\u001b[1;33m(\u001b[0m\u001b[0mtrasaction\u001b[0m\u001b[1;33m)\u001b[0m\u001b[1;33m\u001b[0m\u001b[1;33m\u001b[0m\u001b[0m\n\u001b[0m\u001b[0;32m      6\u001b[0m     \u001b[1;32mif\u001b[0m \u001b[0mval\u001b[0m\u001b[1;33m==\u001b[0m \u001b[1;36m1\u001b[0m\u001b[1;33m:\u001b[0m\u001b[1;33m\u001b[0m\u001b[1;33m\u001b[0m\u001b[0m\n\u001b[0;32m      7\u001b[0m         \u001b[0mamount\u001b[0m \u001b[1;33m=\u001b[0m \u001b[0mamount\u001b[0m \u001b[1;33m+\u001b[0m \u001b[0mtrasaction\u001b[0m\u001b[1;33m\u001b[0m\u001b[1;33m\u001b[0m\u001b[0m\n",
      "\u001b[1;31mNameError\u001b[0m: name 'trasaction' is not defined"
     ]
    }
   ],
   "source": [
    "amount= int(input())\n",
    "operation = int(input())\n",
    "for num in range (operation):\n",
    "    val,transaction = input().split()\n",
    "    val,trasaction = int(val), int(trasaction)\n",
    "    if val== 1:\n",
    "        amount = amount + trasaction \n",
    "        print(amount)\n",
    "    elif val==2:\n",
    "        if trasaction > amount:\n",
    "            print(\"Insufficient Fund\")\n",
    "        else:\n",
    "            amount = amount - transanction\n",
    "            print(amount)\n",
    "\n",
    "\n",
    "            "
   ]
  },
  {
   "cell_type": "code",
   "execution_count": 4,
   "id": "4a9894cd",
   "metadata": {},
   "outputs": [
    {
     "name": "stdout",
     "output_type": "stream",
     "text": [
      "500\n",
      "1\n",
      "2\n"
     ]
    },
    {
     "ename": "ValueError",
     "evalue": "empty separator",
     "output_type": "error",
     "traceback": [
      "\u001b[1;31m---------------------------------------------------------------------------\u001b[0m",
      "\u001b[1;31mValueError\u001b[0m                                Traceback (most recent call last)",
      "\u001b[1;32m~\\AppData\\Local\\Temp/ipykernel_14696/917752207.py\u001b[0m in \u001b[0;36m<module>\u001b[1;34m\u001b[0m\n\u001b[0;32m      2\u001b[0m \u001b[0moperation\u001b[0m \u001b[1;33m=\u001b[0m \u001b[0mint\u001b[0m\u001b[1;33m(\u001b[0m\u001b[0minput\u001b[0m\u001b[1;33m(\u001b[0m\u001b[1;33m)\u001b[0m\u001b[1;33m)\u001b[0m\u001b[1;33m\u001b[0m\u001b[1;33m\u001b[0m\u001b[0m\n\u001b[0;32m      3\u001b[0m \u001b[1;32mfor\u001b[0m \u001b[0mnum\u001b[0m \u001b[1;32min\u001b[0m \u001b[0mrange\u001b[0m \u001b[1;33m(\u001b[0m\u001b[0moperation\u001b[0m\u001b[1;33m)\u001b[0m\u001b[1;33m:\u001b[0m\u001b[1;33m\u001b[0m\u001b[1;33m\u001b[0m\u001b[0m\n\u001b[1;32m----> 4\u001b[1;33m     \u001b[0mval\u001b[0m\u001b[1;33m,\u001b[0m\u001b[0mtransanction\u001b[0m \u001b[1;33m=\u001b[0m \u001b[0minput\u001b[0m\u001b[1;33m(\u001b[0m\u001b[1;33m)\u001b[0m\u001b[1;33m.\u001b[0m\u001b[0msplit\u001b[0m\u001b[1;33m(\u001b[0m\u001b[1;34m\"\"\u001b[0m\u001b[1;33m)\u001b[0m\u001b[1;33m\u001b[0m\u001b[1;33m\u001b[0m\u001b[0m\n\u001b[0m\u001b[0;32m      5\u001b[0m     \u001b[0mval\u001b[0m\u001b[1;33m,\u001b[0m\u001b[0mtransanction\u001b[0m \u001b[1;33m=\u001b[0m \u001b[0mint\u001b[0m\u001b[1;33m(\u001b[0m\u001b[0mval\u001b[0m\u001b[1;33m)\u001b[0m\u001b[1;33m,\u001b[0m \u001b[0mint\u001b[0m\u001b[1;33m(\u001b[0m\u001b[0mtransanction\u001b[0m\u001b[1;33m)\u001b[0m\u001b[1;33m\u001b[0m\u001b[1;33m\u001b[0m\u001b[0m\n\u001b[0;32m      6\u001b[0m     \u001b[1;32mif\u001b[0m \u001b[0mval\u001b[0m\u001b[1;33m==\u001b[0m \u001b[1;36m1\u001b[0m\u001b[1;33m:\u001b[0m\u001b[1;33m\u001b[0m\u001b[1;33m\u001b[0m\u001b[0m\n",
      "\u001b[1;31mValueError\u001b[0m: empty separator"
     ]
    }
   ],
   "source": [
    "amount= int(input())\n",
    "operation = int(input())\n",
    "for num in range (operation):\n",
    "    val,transanction = input().split(\"\")\n",
    "    val,transanction = int(val), int(transanction)\n",
    "    if val== 1:\n",
    "        amount = amount + transanction \n",
    "        print(amount)\n",
    "    elif val==2:\n",
    "        if transanction > amount:\n",
    "            print(\"Insufficient Fund\")\n",
    "        else:\n",
    "            amount = amount - transanction\n",
    "            print(amount)"
   ]
  },
  {
   "cell_type": "code",
   "execution_count": 8,
   "id": "065e34de",
   "metadata": {},
   "outputs": [
    {
     "name": "stdout",
     "output_type": "stream",
     "text": [
      "500\n",
      "2\n",
      "3\n",
      "500\n",
      "1\n",
      "500\n",
      "1000\n"
     ]
    }
   ],
   "source": [
    "amount= int(input())\n",
    "operation = int(input())\n",
    "for num in range (operation):\n",
    "    val= int(input())\n",
    "    transanction = int(input())\n",
    "    val,transanction = int(val), int(transanction)\n",
    "    if val== 1:\n",
    "        amount = amount + transanction \n",
    "        print(amount)\n",
    "    elif val==2:\n",
    "        if transanction > amount:\n",
    "            print(\"Insufficient Fund\")\n",
    "        else:\n",
    "            amount = amount - transanction\n",
    "            print(amount)\n"
   ]
  },
  {
   "cell_type": "code",
   "execution_count": null,
   "id": "a9222417",
   "metadata": {},
   "outputs": [],
   "source": [
    "amount= int(input())\n",
    "operation = int(input())\n",
    "for num in range (operation):\n",
    "    val= int(input())\n",
    "    transanction = int(input())\n",
    "    val,transanction = int(val), int(transanction)\n",
    "    if val== 1:\n",
    "        amount = amount + transanction \n",
    "        print(amount)\n",
    "    elif val==2:\n",
    "        if transanction > amount:\n",
    "            print(\"Insufficient Fund\")\n",
    "        else:\n",
    "            amount = amount - transanction\n",
    "            print(amount)"
   ]
  },
  {
   "cell_type": "code",
   "execution_count": null,
   "id": "8da662e4",
   "metadata": {},
   "outputs": [],
   "source": [
    "amount= int(input())\n",
    "operation = int(input())\n",
    "for num in range (operation):\n",
    "    val= int(input())\n",
    "    transanction = int(input())\n",
    "    val,transanction = int(val), int(transanction)\n",
    "    if val== 1:\n",
    "        amount = amount + transanction \n",
    "        print(amount)\n",
    "    elif val==2:\n",
    "        if transanction > amount:\n",
    "            print(\"Insufficient Fund\")\n",
    "        else:\n",
    "            amount = amount - transanction\n",
    "            print(amount)"
   ]
  },
  {
   "cell_type": "code",
   "execution_count": 3,
   "id": "39017d34",
   "metadata": {},
   "outputs": [
    {
     "name": "stdout",
     "output_type": "stream",
     "text": [
      "1500\n",
      "3\n",
      "500\n"
     ]
    },
    {
     "ename": "ValueError",
     "evalue": "not enough values to unpack (expected 2, got 1)",
     "output_type": "error",
     "traceback": [
      "\u001b[1;31m---------------------------------------------------------------------------\u001b[0m",
      "\u001b[1;31mValueError\u001b[0m                                Traceback (most recent call last)",
      "\u001b[1;32m~\\AppData\\Local\\Temp/ipykernel_5792/3493886229.py\u001b[0m in \u001b[0;36m<module>\u001b[1;34m\u001b[0m\n\u001b[0;32m      2\u001b[0m \u001b[0moperation\u001b[0m \u001b[1;33m=\u001b[0m \u001b[0mint\u001b[0m\u001b[1;33m(\u001b[0m\u001b[0minput\u001b[0m\u001b[1;33m(\u001b[0m\u001b[1;33m)\u001b[0m\u001b[1;33m)\u001b[0m\u001b[1;33m\u001b[0m\u001b[1;33m\u001b[0m\u001b[0m\n\u001b[0;32m      3\u001b[0m \u001b[1;32mfor\u001b[0m \u001b[0mnum\u001b[0m \u001b[1;32min\u001b[0m \u001b[0mrange\u001b[0m \u001b[1;33m(\u001b[0m\u001b[0moperation\u001b[0m\u001b[1;33m)\u001b[0m\u001b[1;33m:\u001b[0m\u001b[1;33m\u001b[0m\u001b[1;33m\u001b[0m\u001b[0m\n\u001b[1;32m----> 4\u001b[1;33m     \u001b[0mval\u001b[0m\u001b[1;33m,\u001b[0m\u001b[0mtransaction\u001b[0m \u001b[1;33m=\u001b[0m \u001b[0minput\u001b[0m\u001b[1;33m(\u001b[0m\u001b[1;33m)\u001b[0m\u001b[1;33m.\u001b[0m\u001b[0msplit\u001b[0m\u001b[1;33m(\u001b[0m\u001b[1;34m\" \"\u001b[0m\u001b[1;33m)\u001b[0m\u001b[1;33m\u001b[0m\u001b[1;33m\u001b[0m\u001b[0m\n\u001b[0m\u001b[0;32m      5\u001b[0m     \u001b[0mval\u001b[0m\u001b[1;33m,\u001b[0m\u001b[0mtransaction\u001b[0m \u001b[1;33m=\u001b[0m \u001b[0mint\u001b[0m\u001b[1;33m(\u001b[0m\u001b[0mval\u001b[0m\u001b[1;33m)\u001b[0m\u001b[1;33m,\u001b[0m \u001b[0mint\u001b[0m\u001b[1;33m(\u001b[0m\u001b[0mtransaction\u001b[0m\u001b[1;33m)\u001b[0m\u001b[1;33m\u001b[0m\u001b[1;33m\u001b[0m\u001b[0m\n\u001b[0;32m      6\u001b[0m     \u001b[1;32mif\u001b[0m \u001b[0mval\u001b[0m\u001b[1;33m==\u001b[0m \u001b[1;36m1\u001b[0m\u001b[1;33m:\u001b[0m\u001b[1;33m\u001b[0m\u001b[1;33m\u001b[0m\u001b[0m\n",
      "\u001b[1;31mValueError\u001b[0m: not enough values to unpack (expected 2, got 1)"
     ]
    }
   ],
   "source": [
    "amount= int(input())\n",
    "operation = int(input())\n",
    "for num in range (operation):\n",
    "    val,transaction = input().split(\" \")\n",
    "    val,transaction = int(val), int(transaction)\n",
    "    if val== 1:\n",
    "        amount = amount + transaction \n",
    "        print(amount)\n",
    "    elif val==2:\n",
    "        if transaction > amount:\n",
    "            print(\"Insufficient Fund\")\n",
    "        else:\n",
    "            amount = amount - transaction\n",
    "            print(amount)"
   ]
  },
  {
   "cell_type": "code",
   "execution_count": 12,
   "id": "efc709e3",
   "metadata": {},
   "outputs": [
    {
     "ename": "KeyboardInterrupt",
     "evalue": "Interrupted by user",
     "output_type": "error",
     "traceback": [
      "\u001b[1;31m---------------------------------------------------------------------------\u001b[0m",
      "\u001b[1;31mKeyboardInterrupt\u001b[0m                         Traceback (most recent call last)",
      "\u001b[1;32m~\\AppData\\Local\\Temp/ipykernel_5792/3067704442.py\u001b[0m in \u001b[0;36m<module>\u001b[1;34m\u001b[0m\n\u001b[1;32m----> 1\u001b[1;33m \u001b[0mamount\u001b[0m\u001b[1;33m=\u001b[0m \u001b[0mint\u001b[0m\u001b[1;33m(\u001b[0m\u001b[0minput\u001b[0m\u001b[1;33m(\u001b[0m\u001b[1;33m)\u001b[0m\u001b[1;33m)\u001b[0m\u001b[1;33m\u001b[0m\u001b[1;33m\u001b[0m\u001b[0m\n\u001b[0m\u001b[0;32m      2\u001b[0m \u001b[0moperation\u001b[0m \u001b[1;33m=\u001b[0m \u001b[0mint\u001b[0m\u001b[1;33m(\u001b[0m\u001b[0minput\u001b[0m\u001b[1;33m(\u001b[0m\u001b[1;33m)\u001b[0m\u001b[1;33m)\u001b[0m\u001b[1;33m\u001b[0m\u001b[1;33m\u001b[0m\u001b[0m\n\u001b[0;32m      3\u001b[0m \u001b[1;32mfor\u001b[0m \u001b[0mnum\u001b[0m \u001b[1;32min\u001b[0m \u001b[0mrange\u001b[0m \u001b[1;33m(\u001b[0m\u001b[0moperation\u001b[0m\u001b[1;33m)\u001b[0m\u001b[1;33m:\u001b[0m\u001b[1;33m\u001b[0m\u001b[1;33m\u001b[0m\u001b[0m\n\u001b[0;32m      4\u001b[0m     \u001b[0mval\u001b[0m\u001b[1;33m=\u001b[0m \u001b[0minput\u001b[0m\u001b[1;33m(\u001b[0m\u001b[1;33m)\u001b[0m\u001b[1;33m.\u001b[0m\u001b[0msplit\u001b[0m\u001b[1;33m(\u001b[0m\u001b[1;34m\" \"\u001b[0m\u001b[1;33m)\u001b[0m\u001b[1;33m\u001b[0m\u001b[1;33m\u001b[0m\u001b[0m\n\u001b[0;32m      5\u001b[0m     \u001b[0mtransanction\u001b[0m \u001b[1;33m=\u001b[0m \u001b[0minput\u001b[0m\u001b[1;33m(\u001b[0m\u001b[1;33m)\u001b[0m\u001b[1;33m.\u001b[0m\u001b[0msplit\u001b[0m\u001b[1;33m(\u001b[0m\u001b[1;34m\" \"\u001b[0m\u001b[1;33m)\u001b[0m\u001b[1;33m\u001b[0m\u001b[1;33m\u001b[0m\u001b[0m\n",
      "\u001b[1;32m~\\anaconda3\\lib\\site-packages\\ipykernel\\kernelbase.py\u001b[0m in \u001b[0;36mraw_input\u001b[1;34m(self, prompt)\u001b[0m\n\u001b[0;32m   1004\u001b[0m                 \u001b[1;34m\"raw_input was called, but this frontend does not support input requests.\"\u001b[0m\u001b[1;33m\u001b[0m\u001b[1;33m\u001b[0m\u001b[0m\n\u001b[0;32m   1005\u001b[0m             )\n\u001b[1;32m-> 1006\u001b[1;33m         return self._input_request(\n\u001b[0m\u001b[0;32m   1007\u001b[0m             \u001b[0mstr\u001b[0m\u001b[1;33m(\u001b[0m\u001b[0mprompt\u001b[0m\u001b[1;33m)\u001b[0m\u001b[1;33m,\u001b[0m\u001b[1;33m\u001b[0m\u001b[1;33m\u001b[0m\u001b[0m\n\u001b[0;32m   1008\u001b[0m             \u001b[0mself\u001b[0m\u001b[1;33m.\u001b[0m\u001b[0m_parent_ident\u001b[0m\u001b[1;33m[\u001b[0m\u001b[1;34m\"shell\"\u001b[0m\u001b[1;33m]\u001b[0m\u001b[1;33m,\u001b[0m\u001b[1;33m\u001b[0m\u001b[1;33m\u001b[0m\u001b[0m\n",
      "\u001b[1;32m~\\anaconda3\\lib\\site-packages\\ipykernel\\kernelbase.py\u001b[0m in \u001b[0;36m_input_request\u001b[1;34m(self, prompt, ident, parent, password)\u001b[0m\n\u001b[0;32m   1049\u001b[0m             \u001b[1;32mexcept\u001b[0m \u001b[0mKeyboardInterrupt\u001b[0m\u001b[1;33m:\u001b[0m\u001b[1;33m\u001b[0m\u001b[1;33m\u001b[0m\u001b[0m\n\u001b[0;32m   1050\u001b[0m                 \u001b[1;31m# re-raise KeyboardInterrupt, to truncate traceback\u001b[0m\u001b[1;33m\u001b[0m\u001b[1;33m\u001b[0m\u001b[0m\n\u001b[1;32m-> 1051\u001b[1;33m                 \u001b[1;32mraise\u001b[0m \u001b[0mKeyboardInterrupt\u001b[0m\u001b[1;33m(\u001b[0m\u001b[1;34m\"Interrupted by user\"\u001b[0m\u001b[1;33m)\u001b[0m \u001b[1;32mfrom\u001b[0m \u001b[1;32mNone\u001b[0m\u001b[1;33m\u001b[0m\u001b[1;33m\u001b[0m\u001b[0m\n\u001b[0m\u001b[0;32m   1052\u001b[0m             \u001b[1;32mexcept\u001b[0m \u001b[0mException\u001b[0m\u001b[1;33m:\u001b[0m\u001b[1;33m\u001b[0m\u001b[1;33m\u001b[0m\u001b[0m\n\u001b[0;32m   1053\u001b[0m                 \u001b[0mself\u001b[0m\u001b[1;33m.\u001b[0m\u001b[0mlog\u001b[0m\u001b[1;33m.\u001b[0m\u001b[0mwarning\u001b[0m\u001b[1;33m(\u001b[0m\u001b[1;34m\"Invalid Message:\"\u001b[0m\u001b[1;33m,\u001b[0m \u001b[0mexc_info\u001b[0m\u001b[1;33m=\u001b[0m\u001b[1;32mTrue\u001b[0m\u001b[1;33m)\u001b[0m\u001b[1;33m\u001b[0m\u001b[1;33m\u001b[0m\u001b[0m\n",
      "\u001b[1;31mKeyboardInterrupt\u001b[0m: Interrupted by user"
     ]
    }
   ],
   "source": [
    "amount= int(input())\n",
    "operation = int(input())\n",
    "for num in range (operation):\n",
    "    val= input().split(\" \")\n",
    "    transanction = input().split(\" \")\n",
    "    val = int(input())\n",
    "    transanction = int(input())\n",
    "    if val==1:\n",
    "        amount = amount + transanction \n",
    "        print(amount)\n",
    "    elif val==2:\n",
    "        if transanction > amount:\n",
    "            print(\"Insufficient Fund\")\n",
    "        else:\n",
    "            amount = amount - transanction\n",
    "            print(amount)"
   ]
  },
  {
   "cell_type": "code",
   "execution_count": null,
   "id": "fb6f948e",
   "metadata": {},
   "outputs": [],
   "source": []
  },
  {
   "cell_type": "code",
   "execution_count": null,
   "id": "6df7e67b",
   "metadata": {},
   "outputs": [],
   "source": [
    "amount= int(input())\n",
    "operation = int(input())\n",
    "for num in range (operation):\n",
    "    val= input().split(\" \")\n",
    "    transanction = input().split(\" \")\n",
    "    val = int(input())\n",
    "    transanction = int(input())\n",
    "    if val==1:\n",
    "        amount = amount + transanction \n",
    "        print(amount)\n",
    "    elif val==2:\n",
    "        if transanction > amount:\n",
    "            print(\"Insufficient Fund\")\n",
    "        else:\n",
    "            amount = amount - transanction\n",
    "            print(amount)"
   ]
  },
  {
   "cell_type": "code",
   "execution_count": 1,
   "id": "1d844d97",
   "metadata": {},
   "outputs": [
    {
     "name": "stdout",
     "output_type": "stream",
     "text": [
      "5000\n",
      "3\n",
      "1 1000\n",
      "2 1500\n"
     ]
    },
    {
     "ename": "ValueError",
     "evalue": "invalid literal for int() with base 10: '2 1500'",
     "output_type": "error",
     "traceback": [
      "\u001b[1;31m---------------------------------------------------------------------------\u001b[0m",
      "\u001b[1;31mValueError\u001b[0m                                Traceback (most recent call last)",
      "\u001b[1;32m~\\AppData\\Local\\Temp/ipykernel_10296/3886084070.py\u001b[0m in \u001b[0;36m<module>\u001b[1;34m\u001b[0m\n\u001b[0;32m      4\u001b[0m \u001b[1;32mfor\u001b[0m \u001b[0mnum\u001b[0m \u001b[1;32min\u001b[0m \u001b[0mrange\u001b[0m \u001b[1;33m(\u001b[0m\u001b[0moperation\u001b[0m\u001b[1;33m)\u001b[0m\u001b[1;33m:\u001b[0m\u001b[1;33m\u001b[0m\u001b[1;33m\u001b[0m\u001b[0m\n\u001b[0;32m      5\u001b[0m     \u001b[0mval\u001b[0m\u001b[1;33m,\u001b[0m\u001b[0mtransanction\u001b[0m \u001b[1;33m=\u001b[0m \u001b[0minput\u001b[0m\u001b[1;33m(\u001b[0m\u001b[1;33m)\u001b[0m\u001b[1;33m.\u001b[0m\u001b[0msplit\u001b[0m\u001b[1;33m(\u001b[0m\u001b[1;34m\" \"\u001b[0m\u001b[1;33m)\u001b[0m\u001b[1;33m\u001b[0m\u001b[1;33m\u001b[0m\u001b[0m\n\u001b[1;32m----> 6\u001b[1;33m     \u001b[0mval\u001b[0m\u001b[1;33m,\u001b[0m\u001b[0mtransanction\u001b[0m \u001b[1;33m=\u001b[0m \u001b[0mint\u001b[0m\u001b[1;33m(\u001b[0m\u001b[0minput\u001b[0m\u001b[1;33m(\u001b[0m\u001b[1;33m)\u001b[0m\u001b[1;33m)\u001b[0m\u001b[1;33m\u001b[0m\u001b[1;33m\u001b[0m\u001b[0m\n\u001b[0m\u001b[0;32m      7\u001b[0m \u001b[1;31m# Defing the input for deposits\u001b[0m\u001b[1;33m\u001b[0m\u001b[1;33m\u001b[0m\u001b[0m\n\u001b[0;32m      8\u001b[0m     \u001b[1;32mif\u001b[0m \u001b[0mval\u001b[0m\u001b[1;33m==\u001b[0m \u001b[1;36m1\u001b[0m\u001b[1;33m:\u001b[0m\u001b[1;33m\u001b[0m\u001b[1;33m\u001b[0m\u001b[0m\n",
      "\u001b[1;31mValueError\u001b[0m: invalid literal for int() with base 10: '2 1500'"
     ]
    }
   ],
   "source": [
    "amount= int(input())\n",
    "operation = int(input())\n",
    "#using for loop for defining the working range\n",
    "for num in range (operation):\n",
    "    val,transanction = input().split(\" \")\n",
    "    val,transanction = int(input())\n",
    "# Defing the input for deposits\n",
    "    if val== 1:\n",
    "        amount = amount + transanction \n",
    "        print(amount)\n",
    " #Defing the input for withdrawals       \n",
    "    elif val==2:\n",
    "  # inserting loop for another consider when withdrawing amount is more than the available amount      \n",
    "        if transanction > amount:\n",
    "            print(\"Insufficient Fund\")\n",
    "        else:\n",
    "            amount = amount - transanction\n",
    "            print(amount)"
   ]
  },
  {
   "cell_type": "code",
   "execution_count": 8,
   "id": "a01ff5eb",
   "metadata": {},
   "outputs": [],
   "source": [
    "def main():\n",
    "  balance = int(input())\n",
    "  operation = int(input())\n",
    "  for i in range (operation):\n",
    "   \n",
    "     type,Amount = input().split()\n",
    "     if int(type) == 1:\n",
    "        Balance = Balance + int(Amount) \n",
    "        print(Balance)\n",
    "     else :\n",
    "        \n",
    "        if Balance < int(Amount):\n",
    "            print(\"Insufficient Fund\")\n",
    "        else:\n",
    "            Balance = Balance - int(Amount)\n",
    "            print(Balance)\n",
    "\n",
    "  return(0)            \n"
   ]
  },
  {
   "cell_type": "code",
   "execution_count": 9,
   "id": "e59b26ba",
   "metadata": {},
   "outputs": [],
   "source": [
    "def main():\n",
    "    Balance = int(input())\n",
    "    operation = int(input())\n",
    "    for i in range (operation):\n",
    "   \n",
    "        type,Amount = input().split()\n",
    "        if int(type) == 1:\n",
    "          Balance = Balance + int(Amount) \n",
    "          print(Balance)\n",
    "        else :\n",
    "        \n",
    "            if Balance < int(Amount):\n",
    "              print(\"Insufficient Fund\")\n",
    "            else:\n",
    "              Balance = Balance - int(Amount)\n",
    "              print(Balance)\n",
    "\n",
    "    return(0)      "
   ]
  },
  {
   "cell_type": "code",
   "execution_count": 2,
   "id": "bb99076c",
   "metadata": {},
   "outputs": [],
   "source": [
    "def main():\n",
    "    Balance = int(input())\n",
    "    operation = int(input())\n",
    "    for i in range (operation):\n",
    "   \n",
    "        type,Amount = input().split()\n",
    "        if int(type) == 1:\n",
    "          Balance = Balance + int(Amount) \n",
    "          print(Balance)\n",
    "        else :\n",
    "        \n",
    "            if Balance < int(Amount):\n",
    "              print(\"Insufficient Fund\")\n",
    "\n",
    "            else:\n",
    "                 Balance = Balance - int(Amount)\n",
    "                 print(Balance)\n",
    "    return(0)  "
   ]
  },
  {
   "cell_type": "code",
   "execution_count": 4,
   "id": "bff47234",
   "metadata": {},
   "outputs": [],
   "source": [
    "def main():\n",
    "    Balance = int(input())\n",
    "    operation = int(input())\n",
    "    for i in range (operation):\n",
    "   \n",
    "        type,Amount = input().split()\n",
    "        if int(type) == 1:\n",
    "          Balance = Balance + int(Amount) \n",
    "          print(Balance)\n",
    "        else :\n",
    "        \n",
    "            if Balance < int(Amount):\n",
    "              print(\"Insufficient Fund\")\n",
    "\n",
    "            else:\n",
    "                 Balance = Balance - int(Amount)\n",
    "                 print(Balance)\n",
    "    return(0)  "
   ]
  },
  {
   "cell_type": "code",
   "execution_count": 1,
   "id": "04db3b3b",
   "metadata": {},
   "outputs": [],
   "source": [
    "def main():\n",
    "    Balance = int(input())\n",
    "    operation = int(input())\n",
    "    for i in range (operation):\n",
    "   \n",
    "        type,Amount = input().split()\n",
    "        if int(type) == 1:\n",
    "          Balance = Balance + int(Amount) \n",
    "          print(Balance)\n",
    "        else :\n",
    "        \n",
    "            if Balance < int(Amount):\n",
    "              print(\"Insufficient Fund\")\n",
    "\n",
    "            else:\n",
    "                 Balance = Balance - int(Amount)\n",
    "                 print(Balance)\n",
    "    return(0)  "
   ]
  },
  {
   "cell_type": "code",
   "execution_count": null,
   "id": "fbc5f6af",
   "metadata": {},
   "outputs": [],
   "source": []
  },
  {
   "cell_type": "code",
   "execution_count": null,
   "id": "19ec4deb",
   "metadata": {},
   "outputs": [],
   "source": []
  },
  {
   "cell_type": "code",
   "execution_count": null,
   "id": "c758160d",
   "metadata": {},
   "outputs": [],
   "source": []
  }
 ],
 "metadata": {
  "kernelspec": {
   "display_name": "Python 3 (ipykernel)",
   "language": "python",
   "name": "python3"
  },
  "language_info": {
   "codemirror_mode": {
    "name": "ipython",
    "version": 3
   },
   "file_extension": ".py",
   "mimetype": "text/x-python",
   "name": "python",
   "nbconvert_exporter": "python",
   "pygments_lexer": "ipython3",
   "version": "3.9.7"
  }
 },
 "nbformat": 4,
 "nbformat_minor": 5
}
