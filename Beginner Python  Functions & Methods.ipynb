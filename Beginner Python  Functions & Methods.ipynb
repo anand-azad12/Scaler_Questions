{
 "cells": [
  {
   "cell_type": "markdown",
   "id": "027e1a9c",
   "metadata": {},
   "source": [
    "# Assignment:\n",
    "\n",
    "## Question 2:"
   ]
  },
  {
   "cell_type": "markdown",
   "id": "f607bfc7",
   "metadata": {},
   "source": [
    "![Batman](https://cdn.atomix.vg/wp-content/uploads/2022/01/New-Project-30-1.jpg)"
   ]
  },
  {
   "cell_type": "markdown",
   "id": "1c9f819b",
   "metadata": {},
   "source": [
    "## Write a Program to find the GCD of 272 and 1479.\n",
    "\n",
    "### In mathematics, the greatest common divisor (GCD) of two or more integers, which are not all zero, is the largest positive integer that divides each of the integers. For example, the gcd of 8 and 12 is 4."
   ]
  },
  {
   "cell_type": "markdown",
   "id": "02d722f8",
   "metadata": {},
   "source": [
    "Our program solution can be found at <a href=\"https://www.youtube.com/watch?v=cahuG1cEQdY\" target=\"_blank\">this link</a>."
   ]
  },
  {
   "cell_type": "code",
   "execution_count": 3,
   "id": "efb03f74",
   "metadata": {},
   "outputs": [
    {
     "name": "stdout",
     "output_type": "stream",
     "text": [
      "272\n",
      "1479\n",
      "17\n"
     ]
    }
   ],
   "source": [
    "def gcd(a,b):\n",
    "    if b==0:\n",
    "        return a\n",
    "    else:\n",
    "        return gcd(b,a%b)\n",
    "\n",
    "\n",
    "num1= int(input())\n",
    "num2 =int(input())\n",
    "print(gcd(num1,num2))\n"
   ]
  },
  {
   "cell_type": "markdown",
   "id": "3d6c6bbe",
   "metadata": {},
   "source": [
    "# Question 3:\n",
    "\n",
    "## You are given an integer A in decimal (base 10).\n",
    "### Return a string denoting the binary (base 2) form of the integer A.\n",
    "\n",
    "**Input Format**\n",
    "* The first line of input contains the integer T, denoting the number of test cases.\n",
    "* Next T lines contain a single integer A, denoting the integer for that test case.\n",
    "\n",
    "**Output Format**\n",
    "* Print T lines. In each line, print the string denoting the binary representation of A.\n",
    "\n",
    "**Input:**\n",
    "* 2\n",
    "* 10\n",
    "* 11\n",
    "\n",
    "**Output:**\n",
    "* 1010\n",
    "* 1011"
   ]
  },
  {
   "cell_type": "markdown",
   "id": "b61a33cb",
   "metadata": {},
   "source": [
    "## Using a list to make a program:"
   ]
  },
  {
   "cell_type": "markdown",
   "id": "e37b77cc",
   "metadata": {},
   "source": [
    "### Method 1:"
   ]
  },
  {
   "cell_type": "code",
   "execution_count": 11,
   "id": "38f43afc",
   "metadata": {},
   "outputs": [
    {
     "name": "stdout",
     "output_type": "stream",
     "text": [
      "10\n",
      "1 0 1 0\n"
     ]
    }
   ],
   "source": [
    "num = int(input())\n",
    "\n",
    "binary=[]\n",
    "\n",
    "while (num !=0):\n",
    "    temp = num % 2\n",
    "    binary.append(temp)\n",
    "    num = num//2\n",
    "    new_binary = binary[::-1]\n",
    "print(*new_binary)        \n"
   ]
  },
  {
   "cell_type": "markdown",
   "id": "b0c876d8",
   "metadata": {},
   "source": [
    "### Method 2:"
   ]
  },
  {
   "cell_type": "code",
   "execution_count": 13,
   "id": "d54c0051",
   "metadata": {},
   "outputs": [
    {
     "name": "stdout",
     "output_type": "stream",
     "text": [
      "10\n",
      "1 0 1 0\n"
     ]
    }
   ],
   "source": [
    "num = int(input())\n",
    "\n",
    "binary=[]\n",
    "\n",
    "while (num !=0):\n",
    "    temp = num % 2\n",
    "    binary.append(temp)\n",
    "    num = num//2\n",
    "\n",
    "binary.reverse()\n",
    "    \n",
    "print(*binary) \n",
    "    "
   ]
  },
  {
   "cell_type": "markdown",
   "id": "5ed2c3a3",
   "metadata": {},
   "source": [
    "### Scaler_Code:"
   ]
  },
  {
   "cell_type": "code",
   "execution_count": 1,
   "id": "3198b6e6",
   "metadata": {},
   "outputs": [
    {
     "name": "stdout",
     "output_type": "stream",
     "text": [
      "2\n",
      "24\n",
      "11000\n",
      "26\n",
      "11010\n"
     ]
    }
   ],
   "source": [
    "def main():\n",
    "    # YOUR CODE GOES HERE\n",
    "    # Please take input and print output to standard input/output (stdin/stdout)\n",
    "    # E.g. 'input()/raw_input()' for input & 'print' for output\n",
    "\n",
    "    operation = int(input())\n",
    "    for i in range (operation):\n",
    "            num = int(input())\n",
    "            binary = bin(num).replace(\"0b\",\"\")\n",
    "            print (binary)    \n",
    "\n",
    "\n",
    "    return 0\n",
    "\n",
    "if __name__ == '__main__':\n",
    "    main()"
   ]
  },
  {
   "cell_type": "markdown",
   "id": "f9820b3b",
   "metadata": {},
   "source": [
    "# Question 4:\n",
    "\n",
    "## You are given a number A in binary format (Base = 2). You have to print the number in decimal format (Base = 10)."
   ]
  },
  {
   "cell_type": "code",
   "execution_count": 7,
   "id": "babe8800",
   "metadata": {},
   "outputs": [
    {
     "name": "stdout",
     "output_type": "stream",
     "text": [
      "2\n",
      "1010\n",
      "10\n",
      "110001\n",
      "49\n"
     ]
    }
   ],
   "source": [
    "operation = int(input())\n",
    "for i in range (operation):\n",
    "    num = int(input())\n",
    "    i = 0\n",
    "    final = 0\n",
    "    while (num !=0):\n",
    "        temp = num % 10\n",
    "        temp = temp * 2**i\n",
    "        i = i +1 \n",
    "        final = final + temp\n",
    "        num = num//10\n",
    "\n",
    "    print(final)        \n"
   ]
  }
 ],
 "metadata": {
  "kernelspec": {
   "display_name": "Python 3 (ipykernel)",
   "language": "python",
   "name": "python3"
  },
  "language_info": {
   "codemirror_mode": {
    "name": "ipython",
    "version": 3
   },
   "file_extension": ".py",
   "mimetype": "text/x-python",
   "name": "python",
   "nbconvert_exporter": "python",
   "pygments_lexer": "ipython3",
   "version": "3.9.7"
  }
 },
 "nbformat": 4,
 "nbformat_minor": 5
}
