{
 "cells": [
  {
   "cell_type": "markdown",
   "id": "5f1cc474",
   "metadata": {},
   "source": [
    "# Pattern Programs"
   ]
  },
  {
   "cell_type": "markdown",
   "id": "7bfe92bc",
   "metadata": {},
   "source": [
    "*For pattern program :*\n",
    "1\n",
    "1 2 3\n",
    "1 2 3 4"
   ]
  },
  {
   "cell_type": "code",
   "execution_count": 13,
   "id": "ecfa6fbd",
   "metadata": {},
   "outputs": [
    {
     "name": "stdout",
     "output_type": "stream",
     "text": [
      "Enter the no. of rows:5\n",
      "1 \n",
      "1 2 \n",
      "1 2 3 \n",
      "1 2 3 4 \n",
      "1 2 3 4 5 \n"
     ]
    }
   ],
   "source": [
    "n= int(input(\"Enter the no. of rows:\"))\n",
    "for i in range(n):\n",
    "     for j in range(i+1):\n",
    "        print(j+1,end=\" \")\n",
    "     print()    "
   ]
  },
  {
   "cell_type": "code",
   "execution_count": 14,
   "id": "68765349",
   "metadata": {},
   "outputs": [
    {
     "name": "stdout",
     "output_type": "stream",
     "text": [
      "Enter the no. of rows:5\n",
      "* \n",
      "* * \n",
      "* * * \n",
      "* * * * \n",
      "* * * * * \n"
     ]
    }
   ],
   "source": [
    "n= int(input(\"Enter the no. of rows:\"))\n",
    "for i in range(n):\n",
    "     for j in range(i+1):\n",
    "        if j<i+1:\n",
    "            print(\"*\",end=\" \")\n",
    "     print()  "
   ]
  },
  {
   "cell_type": "code",
   "execution_count": 44,
   "id": "2344945d",
   "metadata": {},
   "outputs": [
    {
     "name": "stdout",
     "output_type": "stream",
     "text": [
      "Enter the no. of rows:5\n",
      "1\n",
      "12\n",
      "123\n",
      "1234\n",
      "12345\n"
     ]
    }
   ],
   "source": [
    "n= int(input(\"Enter the no. of rows:\"))\n",
    "for i in range(n):\n",
    "     for j in range(i+1):\n",
    "        print(j+1,sep=\" \",end=\"\")\n",
    "     print() "
   ]
  },
  {
   "cell_type": "code",
   "execution_count": 49,
   "id": "a2a5d5ca",
   "metadata": {},
   "outputs": [
    {
     "name": "stdout",
     "output_type": "stream",
     "text": [
      "5\n",
      "1\n",
      "1-2\n",
      "1-2-3\n",
      "1-2-3-4\n",
      "1-2-3-4-5\n"
     ]
    }
   ],
   "source": [
    "n= int(input())\n",
    "for i in range(n):\n",
    "     for j in range(i+1):\n",
    "            if i == j:\n",
    "                print(j+1,end=\"\")\n",
    "            else:\n",
    "                print(j+1,end=\"-\")\n",
    "     print()  "
   ]
  },
  {
   "cell_type": "code",
   "execution_count": null,
   "id": "58f59cd6",
   "metadata": {},
   "outputs": [],
   "source": [
    "n=int(input())\n",
    "i,j=0,0\n",
    "for i in range(n):\n",
    "    for j in range(i,n,-1):\n",
    "          print(chr(ord('A') - 1 + i), end = \" \")\n",
    "print(\"\")"
   ]
  },
  {
   "cell_type": "code",
   "execution_count": null,
   "id": "2cf4b4de",
   "metadata": {},
   "outputs": [],
   "source": [
    "n=int(input())\n",
    "i, j = 0, 0\n",
    "for i in range(n):\n",
    "    for j in range(i,n):\n",
    "        print(chr(ord('A')+1-i), end = \" \")\n",
    "    print()"
   ]
  },
  {
   "cell_type": "code",
   "execution_count": 37,
   "id": "7b6fb5c5",
   "metadata": {},
   "outputs": [
    {
     "name": "stdout",
     "output_type": "stream",
     "text": [
      "5\n",
      "A \n",
      "B B \n",
      "C C C \n",
      "D D D D \n",
      "E E E E E \n"
     ]
    }
   ],
   "source": [
    "n= int(input())\n",
    "for i in range(n):\n",
    "     for j in range(i+1):\n",
    "            if i == j:\n",
    "                print(chr(ord(\"A\")+i),end=\" \")\n",
    "            else:\n",
    "                print(chr(ord(\"A\")+i),end=\" \")\n",
    "     print()  "
   ]
  },
  {
   "cell_type": "code",
   "execution_count": 38,
   "id": "4ef3bf89",
   "metadata": {},
   "outputs": [
    {
     "name": "stdout",
     "output_type": "stream",
     "text": [
      "5\n",
      "@ \n",
      "A A \n",
      "B B B \n",
      "C C C C \n",
      "D D D D D \n"
     ]
    }
   ],
   "source": []
  },
  {
   "cell_type": "code",
   "execution_count": 10,
   "id": "3c6d8786",
   "metadata": {},
   "outputs": [
    {
     "name": "stdout",
     "output_type": "stream",
     "text": [
      "4\n",
      "1 2 3 4   \n",
      "2 3 4     \n",
      "3 4       \n",
      "4         \n"
     ]
    }
   ],
   "source": [
    "n=int(input())\n",
    "for i in range (n):  \n",
    "    for j in range (i,n):\n",
    "        print(j+1,end=' ')\n",
    "    for j in range (0,i+1):\n",
    "        print(' ',end=' ')\n",
    "    print()"
   ]
  },
  {
   "cell_type": "code",
   "execution_count": 3,
   "id": "4b16a5eb",
   "metadata": {},
   "outputs": [
    {
     "name": "stdout",
     "output_type": "stream",
     "text": [
      "4\n",
      "        1 \n",
      "      1 2 \n",
      "    1 2 3 \n",
      "  1 2 3 4 \n"
     ]
    }
   ],
   "source": [
    "n=int(input())\n",
    "for i in range (n):\n",
    "    for j in range (i,n):\n",
    "        print(' ',end=' ')\n",
    "    for j in range (0,i+1):\n",
    "        print(j+1,end=' ')\n",
    "    \n",
    "    print()\n",
    "    "
   ]
  },
  {
   "cell_type": "markdown",
   "id": "866bc273",
   "metadata": {},
   "source": [
    "# Print the sum of odd number between 1 and N intergers:"
   ]
  },
  {
   "cell_type": "code",
   "execution_count": 1,
   "id": "f7ad53fb",
   "metadata": {},
   "outputs": [
    {
     "name": "stdout",
     "output_type": "stream",
     "text": [
      "10\n",
      "30\n"
     ]
    }
   ],
   "source": [
    "n=int(input())\n",
    "i=1\n",
    "sum=0\n",
    "for n in range(i,n+1):\n",
    "    if i%2==0:\n",
    "        sum=sum + i\n",
    "        i=i+1\n",
    "    else:\n",
    "        i=i+1\n",
    "print(sum)"
   ]
  },
  {
   "cell_type": "code",
   "execution_count": 37,
   "id": "e43a8567",
   "metadata": {},
   "outputs": [
    {
     "name": "stdout",
     "output_type": "stream",
     "text": [
      "60\n",
      "930\n"
     ]
    }
   ],
   "source": [
    "n=int(input())\n",
    "i=1\n",
    "sum=0\n",
    "for n in range(i,n+1):\n",
    "    if i%2==0:\n",
    "        sum=sum + i\n",
    "        i=i+1\n",
    "    else:\n",
    "        i=i+1\n",
    "print(sum)"
   ]
  },
  {
   "cell_type": "code",
   "execution_count": null,
   "id": "d50f9ea5",
   "metadata": {},
   "outputs": [],
   "source": []
  },
  {
   "cell_type": "code",
   "execution_count": 31,
   "id": "2391df12",
   "metadata": {},
   "outputs": [
    {
     "name": "stdout",
     "output_type": "stream",
     "text": [
      "30\n"
     ]
    },
    {
     "ename": "SyntaxError",
     "evalue": "'return' outside function (Temp/ipykernel_21804/1035794319.py, line 12)",
     "output_type": "error",
     "traceback": [
      "\u001b[1;36m  File \u001b[1;32m\"C:\\Users\\TESTBOOK\\AppData\\Local\\Temp/ipykernel_21804/1035794319.py\"\u001b[1;36m, line \u001b[1;32m12\u001b[0m\n\u001b[1;33m    return 0\u001b[0m\n\u001b[1;37m    ^\u001b[0m\n\u001b[1;31mSyntaxError\u001b[0m\u001b[1;31m:\u001b[0m 'return' outside function\n"
     ]
    }
   ],
   "source": [
    "def main():\n",
    " n=int(input())\n",
    " i=1\n",
    " sum=0\n",
    "for n in range(i,n+1):       \n",
    "    if i%2==0:\n",
    "        sum=sum + i\n",
    "        i=i+1\n",
    "    else:\n",
    "        i=i+1\n",
    "print(sum)\n",
    "return 0\n",
    "\n",
    "if __name__ == '__main__':\n",
    "    main()"
   ]
  },
  {
   "cell_type": "code",
   "execution_count": 36,
   "id": "13c7c47c",
   "metadata": {},
   "outputs": [
    {
     "name": "stdout",
     "output_type": "stream",
     "text": [
      "30\n"
     ]
    },
    {
     "ename": "SyntaxError",
     "evalue": "'return' outside function (Temp/ipykernel_21804/1035794319.py, line 12)",
     "output_type": "error",
     "traceback": [
      "\u001b[1;36m  File \u001b[1;32m\"C:\\Users\\TESTBOOK\\AppData\\Local\\Temp/ipykernel_21804/1035794319.py\"\u001b[1;36m, line \u001b[1;32m12\u001b[0m\n\u001b[1;33m    return 0\u001b[0m\n\u001b[1;37m    ^\u001b[0m\n\u001b[1;31mSyntaxError\u001b[0m\u001b[1;31m:\u001b[0m 'return' outside function\n"
     ]
    }
   ],
   "source": [
    "def main():\n",
    " n=int(input())\n",
    " i=1\n",
    " sum=0\n",
    "for n in range(i,n+1):       \n",
    "    if i%2==0:\n",
    "        sum=sum + i\n",
    "        i=i+1\n",
    "    else:\n",
    "        i=i+1\n",
    "print(sum)\n",
    "return 0\n",
    "\n",
    "if __name__ == '__main__':\n",
    "    main()"
   ]
  },
  {
   "cell_type": "code",
   "execution_count": 43,
   "id": "7def0046",
   "metadata": {},
   "outputs": [
    {
     "ename": "SyntaxError",
     "evalue": "expression cannot contain assignment, perhaps you meant \"==\"? (Temp/ipykernel_21804/3114065912.py, line 5)",
     "output_type": "error",
     "traceback": [
      "\u001b[1;36m  File \u001b[1;32m\"C:\\Users\\TESTBOOK\\AppData\\Local\\Temp/ipykernel_21804/3114065912.py\"\u001b[1;36m, line \u001b[1;32m5\u001b[0m\n\u001b[1;33m    print(n * i =,tab)\u001b[0m\n\u001b[1;37m          ^\u001b[0m\n\u001b[1;31mSyntaxError\u001b[0m\u001b[1;31m:\u001b[0m expression cannot contain assignment, perhaps you meant \"==\"?\n"
     ]
    }
   ],
   "source": [
    "n=int(input())\n",
    "i=1\n",
    "for n in range(i,n+1):\n",
    "        tab= n*i \n",
    "        print(\n",
    "        i=i+1\n"
   ]
  },
  {
   "cell_type": "code",
   "execution_count": 44,
   "id": "b303908f",
   "metadata": {},
   "outputs": [
    {
     "name": "stdout",
     "output_type": "stream",
     "text": [
      "5\n",
      "6\n"
     ]
    }
   ],
   "source": [
    "n=int(input())\n",
    "i=1\n",
    "sum=0\n",
    "for j in range(1,n+1):\n",
    "    if i%2==0:\n",
    "        \n",
    "        sum=sum + i\n",
    "        i=i+1\n",
    "    else:\n",
    "        i=i+1\n",
    "print(sum)"
   ]
  },
  {
   "cell_type": "code",
   "execution_count": 50,
   "id": "52bbd8b0",
   "metadata": {},
   "outputs": [
    {
     "name": "stdout",
     "output_type": "stream",
     "text": [
      "5\n",
      "  1 2 3 4 5 1 2 3 4   \n",
      "    2 3 4 5 2 3 4     \n",
      "      3 4 5 3 4       \n",
      "        4 5 4         \n",
      "          5           \n"
     ]
    }
   ],
   "source": [
    "n=int(input())\n",
    "for i in range (n):  \n",
    "    for j in range (0,i+1):\n",
    "        print(' ',end=' ')\n",
    "    for j in range (i,n):\n",
    "        print(j+1,end=' ')\n",
    "    \n",
    "    for j in range (i,n-1):\n",
    "        print(j+1,end=' ')\n",
    "    for j in range (0,i+1):\n",
    "        print(' ',end=' ')\n",
    "    print()"
   ]
  },
  {
   "cell_type": "code",
   "execution_count": 57,
   "id": "50e517ba",
   "metadata": {},
   "outputs": [
    {
     "name": "stdout",
     "output_type": "stream",
     "text": [
      "5\n",
      "          1           \n",
      "        1 2 1         \n",
      "      1 2 3 1 2       \n",
      "    1 2 3 4 1 2 3     \n",
      "  1 2 3 4 5 1 2 3 4   \n"
     ]
    }
   ],
   "source": [
    "n=int(input())\n",
    "for i in range (n):\n",
    "    for j in range(i,n):\n",
    "        print(' ',end=' ')\n",
    "    for j in range(0,i+1):\n",
    "        print(j+1,end=' ')\n",
    "    \n",
    "    for j in range(0,i):\n",
    "        print(j+1,end=' ')\n",
    "    for j in range(i,n):\n",
    "        print(' ',end=' ')\n",
    "    print()"
   ]
  },
  {
   "cell_type": "code",
   "execution_count": 74,
   "id": "5ab96da3",
   "metadata": {},
   "outputs": [
    {
     "name": "stdout",
     "output_type": "stream",
     "text": [
      "5\n",
      "  1 2 3 4 5 1 2 3 4   \n",
      "    2 3 4 5 2 3 4     \n",
      "      3 4 5 3 4       \n",
      "        4 5 4         \n",
      "          5           \n",
      "        1 1           \n",
      "      1 2 1 2         \n",
      "    1 2 3 1 2 3       \n",
      "  1 2 3 4 1 2 3 4     \n",
      "1 2 3 4 5 1 2 3 4 5   \n"
     ]
    }
   ],
   "source": [
    "n=int(input())\n",
    "for i in range (n):  \n",
    "    for j in range (0,i+1):\n",
    "        print(' ',end=' ')\n",
    "    for j in range (i,n):\n",
    "        print(j+1,end=' ')\n",
    "    for j in range (i,n-1):\n",
    "        print(j+1,end=' ')\n",
    "    for j in range (0,i+1):\n",
    "        print(' ',end=' ')\n",
    "    print()\n",
    "for i in range(n):\n",
    "    for j in range (i,n-1):\n",
    "        print(' ',end=' ')\n",
    "    for j in range (0,i+1):\n",
    "        print(j+1,end=' ')\n",
    "    for j in range (0,i+1):\n",
    "        print(j+1,end=' ')\n",
    "    for j in range (i,n):\n",
    "        print(' ',end=' ')\n",
    "    print()"
   ]
  },
  {
   "cell_type": "code",
   "execution_count": null,
   "id": "04dbdb69",
   "metadata": {},
   "outputs": [],
   "source": [
    "# Print Sum of digits in"
   ]
  },
  {
   "cell_type": "code",
   "execution_count": 19,
   "id": "a6dc5599",
   "metadata": {},
   "outputs": [
    {
     "name": "stdout",
     "output_type": "stream",
     "text": [
      "5\n",
      "12@3@4@5@\n",
      "23@4@5@\n",
      "34@5@\n",
      "45@\n",
      "5\n"
     ]
    }
   ],
   "source": [
    "def main():\n",
    "    # YOUR CODE GOES HERE\n",
    "    # Please take input and print output to standard input/output (stdin/stdout)\n",
    "    # E.g. 'input()/raw_input()' for input & 'print' for output\n",
    "    n=int(input())\n",
    "    for i in range (1,n+1):\n",
    "        \n",
    "        for j in range (i,n+1):\n",
    "            if i==j:    \n",
    "                print(j,end=\"\")\n",
    "            else:\n",
    "                print(j,end=\"@\")\n",
    "        print()\n",
    "\n",
    "    return 0\n",
    "\n",
    "if __name__ == '__main__':\n",
    "    main()"
   ]
  },
  {
   "cell_type": "code",
   "execution_count": 11,
   "id": "98d2c1fe",
   "metadata": {},
   "outputs": [
    {
     "name": "stdout",
     "output_type": "stream",
     "text": [
      "5\n",
      "\n",
      "2 \n",
      "2 3 \n",
      "2 3 4 \n",
      "2 3 4 5 \n"
     ]
    }
   ],
   "source": [
    "n=int(input())\n",
    "for i in range (n):\n",
    "    for j in range (1,n):\n",
    "        print(j+1,end=' ')\n",
    "    print()"
   ]
  },
  {
   "cell_type": "code",
   "execution_count": null,
   "id": "f08e506d",
   "metadata": {},
   "outputs": [],
   "source": []
  }
 ],
 "metadata": {
  "kernelspec": {
   "display_name": "Python 3 (ipykernel)",
   "language": "python",
   "name": "python3"
  },
  "language_info": {
   "codemirror_mode": {
    "name": "ipython",
    "version": 3
   },
   "file_extension": ".py",
   "mimetype": "text/x-python",
   "name": "python",
   "nbconvert_exporter": "python",
   "pygments_lexer": "ipython3",
   "version": "3.9.7"
  }
 },
 "nbformat": 4,
 "nbformat_minor": 5
}
