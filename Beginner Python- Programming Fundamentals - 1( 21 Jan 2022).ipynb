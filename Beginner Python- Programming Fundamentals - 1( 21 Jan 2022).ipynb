{
 "cells": [
  {
   "cell_type": "markdown",
   "id": "52ec0606",
   "metadata": {},
   "source": [
    "**Here is the link to the markdown module page <a href=\"https://www.earthdatascience.org/courses/intro-to-earth-data-science/file-formats/use-text-files/format-text-with-markdown-jupyter-notebook/\" target=\"_blank\">here!</a>**"
   ]
  },
  {
   "cell_type": "markdown",
   "id": "4f95a88a",
   "metadata": {},
   "source": [
    "# Welcome to the Python Party`"
   ]
  },
  {
   "cell_type": "markdown",
   "id": "6792341a",
   "metadata": {},
   "source": [
    "## Let's get started!"
   ]
  },
  {
   "cell_type": "markdown",
   "id": "a1191d1a",
   "metadata": {},
   "source": [
    "### And the countdown begins!"
   ]
  },
  {
   "cell_type": "markdown",
   "id": "f145be02",
   "metadata": {},
   "source": [
    "#### 3.. 2.. 1.. Tada !"
   ]
  },
  {
   "cell_type": "markdown",
   "id": "2b6e00c2",
   "metadata": {},
   "source": [
    "***\n",
    "wow!\n",
    "***"
   ]
  },
  {
   "cell_type": "markdown",
   "id": "df7e2105",
   "metadata": {},
   "source": [
    "*Don't you worry my child!*  "
   ]
  },
  {
   "cell_type": "markdown",
   "id": "27e20fd2",
   "metadata": {},
   "source": [
    "`Here is some code!`"
   ]
  },
  {
   "cell_type": "markdown",
   "id": "e1ab252b",
   "metadata": {},
   "source": [
    "* We will learn to code.\n",
    "* Practice! Practice! Practice!"
   ]
  },
  {
   "cell_type": "markdown",
   "id": "95dc950f",
   "metadata": {},
   "source": [
    "1. Also, We know practice makes the man perfect.\n",
    "2. Don't Quit!"
   ]
  },
  {
   "cell_type": "markdown",
   "id": "3ee4a569",
   "metadata": {},
   "source": [
    "![Easy Pie](https://memecreator.org/static/images/memes/4991929.jpg)"
   ]
  },
  {
   "cell_type": "markdown",
   "id": "8d85e4c8",
   "metadata": {},
   "source": [
    "# Homework Question"
   ]
  },
  {
   "cell_type": "markdown",
   "id": "577a41df",
   "metadata": {},
   "source": [
    "**Qn. You are given an integer A, you need to find and return the sum of all the even numbers between 1 and A.\n",
    "Even numbers are those numbers that are divisible by 2.**"
   ]
  },
  {
   "cell_type": "code",
   "execution_count": 1,
   "id": "1f5e250c",
   "metadata": {},
   "outputs": [
    {
     "ename": "SyntaxError",
     "evalue": "invalid syntax (Temp/ipykernel_86784/677492860.py, line 2)",
     "output_type": "error",
     "traceback": [
      "\u001b[1;36m  File \u001b[1;32m\"C:\\Users\\TESTBOOK\\AppData\\Local\\Temp/ipykernel_86784/677492860.py\"\u001b[1;36m, line \u001b[1;32m2\u001b[0m\n\u001b[1;33m    for i in range num:\u001b[0m\n\u001b[1;37m                   ^\u001b[0m\n\u001b[1;31mSyntaxError\u001b[0m\u001b[1;31m:\u001b[0m invalid syntax\n"
     ]
    }
   ],
   "source": [
    "def even(num):\n",
    "    for i in range num:\n",
    "        sum = 0\n",
    "        i % 2 == 0:\n",
    "        sum = sum + i\n",
    "        i+=1\n",
    "    return(print(sum))\n",
    "even(25)"
   ]
  },
  {
   "cell_type": "code",
   "execution_count": 10,
   "id": "fe352e65",
   "metadata": {},
   "outputs": [
    {
     "name": "stdout",
     "output_type": "stream",
     "text": [
      "10\n",
      "0\n",
      "2\n",
      "4\n",
      "6\n",
      "8\n"
     ]
    }
   ],
   "source": [
    "n= int(input())\n",
    "for i in range (n):\n",
    "    sum=0\n",
    "    if i%2==0:\n",
    "        sum = sum + i\n",
    "        i+=1\n",
    "        print(sum)"
   ]
  },
  {
   "cell_type": "markdown",
   "id": "a38e7c28",
   "metadata": {},
   "source": [
    "# Inverted Numeric Pyramid\n"
   ]
  },
  {
   "cell_type": "markdown",
   "id": "16a460d8",
   "metadata": {},
   "source": [
    "**Qn: Given an integer N, print the corresponding Numeric Inverted Half Pyramid pattern for N.**\n",
    "\n",
    "*For example if N = 4 then pattern will be like:*\n",
    "![YO Boys!](https://encrypted-tbn0.gstatic.com/images?q=tbn:ANd9GcSuu72nQD4UFTOeJ5_6cLO-8WT6LL8R7cu2Iw&usqp=CAU)"
   ]
  },
  {
   "cell_type": "markdown",
   "id": "dc7485b6",
   "metadata": {},
   "source": [
    "**You can find the link to a beautiful explanation in this <a href=\"https://www.youtube.com/watch?v=fABNMH1DLD0&t=676s\" target=\"_blank\">video</a>**"
   ]
  },
  {
   "cell_type": "code",
   "execution_count": 3,
   "id": "a07e21b1",
   "metadata": {},
   "outputs": [
    {
     "name": "stdout",
     "output_type": "stream",
     "text": [
      "5\n",
      "12345 \n",
      "1234 \n",
      "123 \n",
      "12 \n",
      "1 \n"
     ]
    }
   ],
   "source": [
    "no_row= int(input())\n",
    "for row in range(no_row,0,-1):\n",
    "    for column in range (1,row+1):\n",
    "        if row==column:\n",
    "            print(column,end=\" \")\n",
    "        else:\n",
    "            print(column,end=\"\")\n",
    "    print()"
   ]
  },
  {
   "cell_type": "markdown",
   "id": "77d831c9",
   "metadata": {},
   "source": [
    "# Write a Function"
   ]
  },
  {
   "cell_type": "markdown",
   "id": "e8e8d67c",
   "metadata": {},
   "source": [
    "**Sum of the two Number:**"
   ]
  },
  {
   "cell_type": "code",
   "execution_count": 11,
   "id": "6f282a01",
   "metadata": {},
   "outputs": [],
   "source": [
    "def sum(a,b):\n",
    "    sum = a+b\n",
    "    print(sum)"
   ]
  },
  {
   "cell_type": "code",
   "execution_count": 12,
   "id": "13f8a5dd",
   "metadata": {},
   "outputs": [
    {
     "name": "stdout",
     "output_type": "stream",
     "text": [
      "13\n"
     ]
    }
   ],
   "source": [
    "sum(5,8)"
   ]
  },
  {
   "cell_type": "code",
   "execution_count": 22,
   "id": "9cccd9f5",
   "metadata": {},
   "outputs": [],
   "source": [
    "def sum(a,b):\n",
    "    sum = a+b\n",
    "    return(sum)"
   ]
  },
  {
   "cell_type": "code",
   "execution_count": 14,
   "id": "7bf6f99f",
   "metadata": {},
   "outputs": [
    {
     "data": {
      "text/plain": [
       "10"
      ]
     },
     "execution_count": 14,
     "metadata": {},
     "output_type": "execute_result"
    }
   ],
   "source": [
    "sum(1,9)"
   ]
  },
  {
   "cell_type": "markdown",
   "id": "8c8d5693",
   "metadata": {},
   "source": [
    "**Sum of even number between 1 and A**"
   ]
  },
  {
   "cell_type": "code",
   "execution_count": 15,
   "id": "4b41fca0",
   "metadata": {},
   "outputs": [
    {
     "name": "stdout",
     "output_type": "stream",
     "text": [
      "60\n",
      "930\n"
     ]
    }
   ],
   "source": [
    "A=int(input())\n",
    "sum=0\n",
    "for num in range(1,A+1):\n",
    "    if (num%2 ==0):\n",
    "        sum = sum + num\n",
    "print(sum)       "
   ]
  },
  {
   "cell_type": "code",
   "execution_count": 16,
   "id": "8c643737",
   "metadata": {},
   "outputs": [
    {
     "name": "stdout",
     "output_type": "stream",
     "text": [
      " Please Enter the Maximum Value : 60\n",
      "The Sum of Even Numbers from 1 to 60 = 930\n"
     ]
    }
   ],
   "source": [
    "maximum = int(input(\" Please Enter the Maximum Value : \"))\n",
    "total = 0\n",
    "\n",
    "for number in range(1, maximum+1):\n",
    "    if(number % 2 == 0):\n",
    "        total = total + number\n",
    "\n",
    "print(\"The Sum of Even Numbers from 1 to {0} = {1}\".format(number, total))"
   ]
  },
  {
   "cell_type": "markdown",
   "id": "d3fa2082",
   "metadata": {},
   "source": [
    "**Multiplication Table**\n"
   ]
  },
  {
   "cell_type": "code",
   "execution_count": 20,
   "id": "d2f2b4a1",
   "metadata": {},
   "outputs": [
    {
     "name": "stdout",
     "output_type": "stream",
     "text": [
      "5\n",
      "5 x 1 = 5\n",
      "5 x 2 = 10\n",
      "5 x 3 = 15\n",
      "5 x 4 = 20\n",
      "5 x 5 = 25\n",
      "5 x 6 = 30\n",
      "5 x 7 = 35\n",
      "5 x 8 = 40\n",
      "5 x 9 = 45\n",
      "5 x 10 = 50\n"
     ]
    }
   ],
   "source": [
    "def main():\n",
    "    # YOUR CODE GOES HERE\n",
    "    # Please take input and print output to standard input/output (stdin/stdout)\n",
    "    # E.g. 'input()/raw_input()' for input & 'print' for output\n",
    "    n=int(input())\n",
    "    for i in range(1,11):\n",
    "        t1= n * i\n",
    "        print(n, '*', i, '=', n*i)\n",
    "\n",
    "    return 0\n",
    "\n",
    "if __name__ == '__main__':\n",
    "    main()"
   ]
  },
  {
   "cell_type": "code",
   "execution_count": 1,
   "id": "e94462c8",
   "metadata": {},
   "outputs": [],
   "source": []
  },
  {
   "cell_type": "code",
   "execution_count": null,
   "id": "92223834",
   "metadata": {},
   "outputs": [],
   "source": []
  },
  {
   "cell_type": "code",
   "execution_count": null,
   "id": "a88a56d2",
   "metadata": {},
   "outputs": [],
   "source": []
  }
 ],
 "metadata": {
  "kernelspec": {
   "display_name": "Python 3 (ipykernel)",
   "language": "python",
   "name": "python3"
  },
  "language_info": {
   "codemirror_mode": {
    "name": "ipython",
    "version": 3
   },
   "file_extension": ".py",
   "mimetype": "text/x-python",
   "name": "python",
   "nbconvert_exporter": "python",
   "pygments_lexer": "ipython3",
   "version": "3.9.7"
  }
 },
 "nbformat": 4,
 "nbformat_minor": 5
}
