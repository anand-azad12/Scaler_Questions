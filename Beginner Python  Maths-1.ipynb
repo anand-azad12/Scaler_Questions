{
 "cells": [
  {
   "cell_type": "markdown",
   "id": "f349cfa9",
   "metadata": {},
   "source": [
    "# Assignment:\n",
    "\n",
    "## Question 1: HCF using Loop\n",
    "\n",
    "### Write a program to input an integer T and then T lines each containing two integers A & B from user and print T lines conatining HCF of two given 2 numbers A and B."
   ]
  },
  {
   "cell_type": "markdown",
   "id": "c1c4fec3",
   "metadata": {},
   "source": [
    "#### Method 1:"
   ]
  },
  {
   "cell_type": "code",
   "execution_count": 1,
   "id": "cc4aec30",
   "metadata": {},
   "outputs": [
    {
     "name": "stdout",
     "output_type": "stream",
     "text": [
      "2\n",
      "24 54\n",
      "6\n",
      "18 64\n",
      "2\n"
     ]
    }
   ],
   "source": [
    "def main():\n",
    "    # YOUR CODE GOES HERE\n",
    "    # Please take input and print output to standard input/output (stdin/stdout)\n",
    "    # E.g. 'input()/raw_input()' for input & 'print' for output\n",
    "    operation = int(input())\n",
    "    for i in range (operation):\n",
    "        num1,num2 = input().split(\" \")\n",
    "        num1,num2 = int(num1),int(num2)\n",
    "        if num1 < num2:\n",
    "            smaller = num1\n",
    "        else:\n",
    "            smaller = num2\n",
    "        for i in range (1,smaller + 1):\n",
    "            if ((num1 % i == 0) and (num2 % i == 0)):\n",
    "                hcf = i\n",
    "        print(hcf)\n",
    "\n",
    "    return 0\n",
    "\n",
    "if __name__ == '__main__':\n",
    "    main()"
   ]
  },
  {
   "cell_type": "markdown",
   "id": "630108f6",
   "metadata": {},
   "source": [
    "#### Method 2:"
   ]
  },
  {
   "cell_type": "code",
   "execution_count": 2,
   "id": "5ae8ee9a",
   "metadata": {},
   "outputs": [
    {
     "name": "stdout",
     "output_type": "stream",
     "text": [
      "2\n",
      "24 54\n",
      "6\n",
      "8 64\n",
      "8\n"
     ]
    }
   ],
   "source": [
    "def main():\n",
    "    # YOUR CODE GOES HERE\n",
    "    # Please take input and print output to standard input/output (stdin/stdout)\n",
    "    # E.g. 'input()/raw_input()' for input & 'print' for output\n",
    "    operation = int(input())\n",
    "    for i in range (operation):\n",
    "        num1,num2 = input().split(\" \")\n",
    "        num1,num2 = int(num1),int(num2)\n",
    "        if num1 < num2:\n",
    "            num1,num2 = num2,num1\n",
    "        for i in range (1,num1 + 1):\n",
    "            if ((num1 % i == 0) and (num2 % i == 0)):\n",
    "                hcf = i\n",
    "        print(hcf)\n",
    "\n",
    "    return 0\n",
    "\n",
    "if __name__ == '__main__':\n",
    "    main()"
   ]
  },
  {
   "cell_type": "markdown",
   "id": "168cb6ae",
   "metadata": {},
   "source": [
    "## Question 2:  LCM of two numbers Easy\n",
    "\n",
    "### Write a function that takes to positive integers A and B and returns their LCM."
   ]
  },
  {
   "cell_type": "markdown",
   "id": "db050cd3",
   "metadata": {},
   "source": [
    "# Scaler_code:"
   ]
  },
  {
   "cell_type": "code",
   "execution_count": 1,
   "id": "68618d84",
   "metadata": {},
   "outputs": [
    {
     "ename": "NameError",
     "evalue": "name 'solve' is not defined",
     "output_type": "error",
     "traceback": [
      "\u001b[1;31m---------------------------------------------------------------------------\u001b[0m",
      "\u001b[1;31mNameError\u001b[0m                                 Traceback (most recent call last)",
      "\u001b[1;32m~\\AppData\\Local\\Temp/ipykernel_66700/1083839360.py\u001b[0m in \u001b[0;36m<module>\u001b[1;34m\u001b[0m\n\u001b[0;32m     16\u001b[0m         \u001b[1;32mreturn\u001b[0m \u001b[0mlcm\u001b[0m\u001b[1;33m\u001b[0m\u001b[1;33m\u001b[0m\u001b[0m\n\u001b[0;32m     17\u001b[0m \u001b[1;33m\u001b[0m\u001b[0m\n\u001b[1;32m---> 18\u001b[1;33m \u001b[0mprint\u001b[0m\u001b[1;33m(\u001b[0m\u001b[0msolve\u001b[0m\u001b[1;33m(\u001b[0m\u001b[0mself\u001b[0m\u001b[1;33m,\u001b[0m\u001b[1;36m12\u001b[0m\u001b[1;33m,\u001b[0m\u001b[1;36m24\u001b[0m\u001b[1;33m)\u001b[0m\u001b[1;33m)\u001b[0m\u001b[1;33m\u001b[0m\u001b[1;33m\u001b[0m\u001b[0m\n\u001b[0m",
      "\u001b[1;31mNameError\u001b[0m: name 'solve' is not defined"
     ]
    }
   ],
   "source": [
    "class Solution:\n",
    "    # @param A : integer\n",
    "    # @param B : integer\n",
    "    # @return an integer\n",
    "    def solve(self, A, B):\n",
    "        if A > B:\n",
    "            greater = A\n",
    "        else: \n",
    "            greater = B  \n",
    "\n",
    "        while(True):\n",
    "            if((greater % A == 0) and (greater % B == 0)):\n",
    "                lcm = greater\n",
    "                break\n",
    "            greater += 1\n",
    "        return lcm\n",
    "    "
   ]
  },
  {
   "cell_type": "markdown",
   "id": "adf6ebe4",
   "metadata": {},
   "source": [
    "# Method 1:"
   ]
  },
  {
   "cell_type": "code",
   "execution_count": 5,
   "id": "167c530c",
   "metadata": {},
   "outputs": [
    {
     "name": "stdout",
     "output_type": "stream",
     "text": [
      "The L.C.M. is 216\n"
     ]
    }
   ],
   "source": [
    "def compute_lcm(x, y):\n",
    "\n",
    "   # choose the greater number\n",
    "   if x > y:\n",
    "       greater = x\n",
    "   else:\n",
    "       greater = y\n",
    "\n",
    "   while(True):\n",
    "       if((greater % x == 0) and (greater % y == 0)):\n",
    "           lcm = greater\n",
    "           break\n",
    "       greater += 1\n",
    "\n",
    "   return lcm\n",
    "\n",
    "num1 = 54\n",
    "num2 = 24\n",
    "\n",
    "print(\"The L.C.M. is\", compute_lcm(num1, num2))"
   ]
  },
  {
   "cell_type": "markdown",
   "id": "62e9134b",
   "metadata": {},
   "source": [
    "# Method 2:"
   ]
  },
  {
   "cell_type": "code",
   "execution_count": null,
   "id": "c4a931ac",
   "metadata": {},
   "outputs": [],
   "source": [
    "# Python program to find the L.C.M. of two input number\n",
    "\n",
    "# This function computes GCD \n",
    "def compute_gcd(x, y):\n",
    "\n",
    "   while(y):\n",
    "       x, y = y, x % y\n",
    "   return x\n",
    "\n",
    "# This function computes LCM\n",
    "def compute_lcm(x, y):\n",
    "   lcm = (x*y)//compute_gcd(x,y)\n",
    "   return lcm\n",
    "\n",
    "num1 = 54\n",
    "num2 = 24 \n",
    "\n",
    "print(\"The L.C.M. is\", compute_lcm(num1, num2))"
   ]
  },
  {
   "cell_type": "markdown",
   "id": "55d45af7",
   "metadata": {},
   "source": [
    "# Homework:\n",
    "\n",
    "## Q1. Find nth Magic Number\n",
    "### Given an integer A, find and return the Ath magic number.\n",
    "\n",
    "#### A magic number is defined as a number which can be expressed as a power of 5 or sum of unique powers of 5.\n",
    "\n",
    "* First few magic numbers are 5, 25, 30(5 + 25), 125, 130(125 + 5), …."
   ]
  },
  {
   "cell_type": "code",
   "execution_count": 25,
   "id": "f8bb4d64",
   "metadata": {},
   "outputs": [
    {
     "name": "stdout",
     "output_type": "stream",
     "text": [
      "10\n",
      "1953125\n"
     ]
    }
   ],
   "source": [
    "#def magic(A):\n",
    "n = int(input())\n",
    "nth_num = 0\n",
    "for i in range (1,A+1):\n",
    "    if i % 2 == 0:\n",
    "        nth_num = 5 ** (i)\n",
    "    else: \n",
    "        nth_num = 5 + 5 **(i-2) \n",
    "print(nth_num) \n",
    "\n",
    "\n"
   ]
  },
  {
   "cell_type": "markdown",
   "id": "4206d71c",
   "metadata": {},
   "source": [
    "# Q2. Find Nth Fibonacci\n",
    "\n",
    "## Given an integer A you need to find the Ath fibonacci number modulo 109 + 7.\n",
    "\n",
    "* The first fibonacci number F1 = 1\n",
    "\n",
    "* The first fibonacci number F2 = 1\n",
    "\n",
    "* The nth fibonacci number Fn = Fn-1 + Fn-2 (n > 2)\n",
    "\n",
    "**Input Format:** *First argument is an integer A.*\n",
    "\n",
    "**Output Format:** *Return a single integer denoting Ath fibonacci number modulo 109 + 7.*"
   ]
  },
  {
   "cell_type": "code",
   "execution_count": null,
   "id": "7e783360",
   "metadata": {},
   "outputs": [],
   "source": []
  },
  {
   "cell_type": "code",
   "execution_count": null,
   "id": "fb71e0a2",
   "metadata": {},
   "outputs": [],
   "source": []
  },
  {
   "cell_type": "markdown",
   "id": "e6163fd3",
   "metadata": {},
   "source": [
    "# Q3. Roots Of Quadratic Equation\n",
    "\n",
    "## You are given values of coefficients A, B and C of a quadratic equation : A * X2 + B * X + C = 0.\n",
    "\n",
    "**You have to tell whether the roots of equation are:**\n",
    "\n",
    "- Real and distinct\n",
    "- Real and equal\n",
    "- Imaginary / Complex"
   ]
  },
  {
   "cell_type": "markdown",
   "id": "692f92ac",
   "metadata": {},
   "source": [
    "**Input Format:**\n",
    "\n",
    "* First line of the input contains a single integer A.\n",
    "* Second line of the input contains a single integer B.\n",
    "* Third line of the input contains a single integer C.\n",
    "\n",
    "**Output Format:**\n",
    "\n",
    "- If the roots are real and distinct, print 1.\n",
    "- If the root are real and equal, print 0.\n",
    "- If the roots are complex or imaginary, print -1."
   ]
  },
  {
   "cell_type": "code",
   "execution_count": 29,
   "id": "5b892c3b",
   "metadata": {},
   "outputs": [
    {
     "name": "stdout",
     "output_type": "stream",
     "text": [
      "3\n",
      "1\n",
      "1\n"
     ]
    },
    {
     "ename": "TypeError",
     "evalue": "'>' not supported between instances of 'complex' and 'int'",
     "output_type": "error",
     "traceback": [
      "\u001b[1;31m---------------------------------------------------------------------------\u001b[0m",
      "\u001b[1;31mTypeError\u001b[0m                                 Traceback (most recent call last)",
      "\u001b[1;32m~\\AppData\\Local\\Temp/ipykernel_66700/3311079762.py\u001b[0m in \u001b[0;36m<module>\u001b[1;34m\u001b[0m\n\u001b[0;32m     24\u001b[0m \u001b[1;33m\u001b[0m\u001b[0m\n\u001b[0;32m     25\u001b[0m \u001b[1;32mif\u001b[0m \u001b[0m__name__\u001b[0m \u001b[1;33m==\u001b[0m \u001b[1;34m'__main__'\u001b[0m\u001b[1;33m:\u001b[0m\u001b[1;33m\u001b[0m\u001b[1;33m\u001b[0m\u001b[0m\n\u001b[1;32m---> 26\u001b[1;33m     \u001b[0mmain\u001b[0m\u001b[1;33m(\u001b[0m\u001b[1;33m)\u001b[0m\u001b[1;33m\u001b[0m\u001b[1;33m\u001b[0m\u001b[0m\n\u001b[0m",
      "\u001b[1;32m~\\AppData\\Local\\Temp/ipykernel_66700/3311079762.py\u001b[0m in \u001b[0;36mmain\u001b[1;34m()\u001b[0m\n\u001b[0;32m     11\u001b[0m     \u001b[0mroot_2\u001b[0m \u001b[1;33m=\u001b[0m \u001b[1;33m(\u001b[0m\u001b[1;33m(\u001b[0m\u001b[1;33m-\u001b[0m\u001b[0mB\u001b[0m\u001b[1;33m)\u001b[0m \u001b[1;33m-\u001b[0m \u001b[1;33m(\u001b[0m\u001b[1;33m(\u001b[0m\u001b[0mB\u001b[0m \u001b[1;33m**\u001b[0m\u001b[1;36m2\u001b[0m\u001b[1;33m)\u001b[0m \u001b[1;33m-\u001b[0m \u001b[1;33m(\u001b[0m\u001b[1;36m4\u001b[0m \u001b[1;33m*\u001b[0m \u001b[0mA\u001b[0m \u001b[1;33m*\u001b[0m \u001b[0mC\u001b[0m\u001b[1;33m)\u001b[0m\u001b[1;33m)\u001b[0m\u001b[1;33m**\u001b[0m \u001b[1;33m-\u001b[0m\u001b[1;36m0.5\u001b[0m\u001b[1;33m)\u001b[0m\u001b[1;33m/\u001b[0m\u001b[1;33m(\u001b[0m\u001b[1;36m2\u001b[0m \u001b[1;33m*\u001b[0m \u001b[0mA\u001b[0m\u001b[1;33m)\u001b[0m\u001b[1;33m\u001b[0m\u001b[1;33m\u001b[0m\u001b[0m\n\u001b[0;32m     12\u001b[0m \u001b[1;33m\u001b[0m\u001b[0m\n\u001b[1;32m---> 13\u001b[1;33m     \u001b[1;32mif\u001b[0m \u001b[1;33m(\u001b[0m\u001b[0mroot_1\u001b[0m \u001b[1;33m>\u001b[0m \u001b[1;36m0\u001b[0m\u001b[1;33m)\u001b[0m \u001b[1;32mand\u001b[0m \u001b[1;33m(\u001b[0m\u001b[0mroot_2\u001b[0m \u001b[1;33m>\u001b[0m \u001b[1;36m0\u001b[0m\u001b[1;33m)\u001b[0m \u001b[1;32mand\u001b[0m \u001b[1;33m(\u001b[0m\u001b[0mroot_1\u001b[0m \u001b[1;33m!=\u001b[0m \u001b[0mroot_2\u001b[0m\u001b[1;33m)\u001b[0m\u001b[1;33m:\u001b[0m\u001b[1;33m\u001b[0m\u001b[1;33m\u001b[0m\u001b[0m\n\u001b[0m\u001b[0;32m     14\u001b[0m         \u001b[0mprint\u001b[0m\u001b[1;33m(\u001b[0m\u001b[1;34m\"Real and Distinct Roots are %d and %d\"\u001b[0m\u001b[1;33m,\u001b[0m\u001b[0mroot_1\u001b[0m\u001b[1;33m,\u001b[0m\u001b[0mroot_2\u001b[0m\u001b[1;33m)\u001b[0m\u001b[1;33m\u001b[0m\u001b[1;33m\u001b[0m\u001b[0m\n\u001b[0;32m     15\u001b[0m         \u001b[0mprint\u001b[0m\u001b[1;33m(\u001b[0m\u001b[1;36m1\u001b[0m\u001b[1;33m)\u001b[0m\u001b[1;33m\u001b[0m\u001b[1;33m\u001b[0m\u001b[0m\n",
      "\u001b[1;31mTypeError\u001b[0m: '>' not supported between instances of 'complex' and 'int'"
     ]
    }
   ],
   "source": [
    "def main():\n",
    "    # YOUR CODE GOES HERE\n",
    "    # Please take input and print output to standard input/output (stdin/stdout)\n",
    "    # E.g. 'input()/raw_input()' for input & 'print' for output\n",
    "    A = int(input())\n",
    "    B = int(input())\n",
    "    C = int(input())\n",
    "    \n",
    "    root_1 = ((-B) + ((B **2) - (4 * A * C))** -0.5)/(2 * A)\n",
    "\n",
    "    root_2 = ((-B) - ((B **2) - (4 * A * C))** -0.5)/(2 * A)\n",
    "\n",
    "    if (root_1 > 0) and (root_2 > 0) and (root_1 != root_2):\n",
    "        print(\"Real and Distinct Roots are %d and %d\",root_1,root_2)\n",
    "        print(1)\n",
    "    elif (root_1 > 0) and (root_2 > 0) and (root_1 == root_2):\n",
    "        print(\"Real and Equal Roots are %d and %d\",root_1,root_2)\n",
    "        print(0)\n",
    "    else:\n",
    "        print(\"Imaginary Roots are %d and %d\",root_1,root_2)\n",
    "        print(-1)\n",
    "\n",
    "    return 0\n",
    "\n",
    "if __name__ == '__main__':\n",
    "    main()"
   ]
  }
 ],
 "metadata": {
  "kernelspec": {
   "display_name": "Python 3 (ipykernel)",
   "language": "python",
   "name": "python3"
  },
  "language_info": {
   "codemirror_mode": {
    "name": "ipython",
    "version": 3
   },
   "file_extension": ".py",
   "mimetype": "text/x-python",
   "name": "python",
   "nbconvert_exporter": "python",
   "pygments_lexer": "ipython3",
   "version": "3.9.7"
  }
 },
 "nbformat": 4,
 "nbformat_minor": 5
}
