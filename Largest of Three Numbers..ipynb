{
 "cells": [
  {
   "cell_type": "code",
   "execution_count": 1,
   "id": "12616a2f",
   "metadata": {},
   "outputs": [
    {
     "name": "stdout",
     "output_type": "stream",
     "text": [
      "Enter three numbers: 5.6 7.5 4.2\n",
      "The largest number is 7.5\n"
     ]
    }
   ],
   "source": [
    "num1, num2, num3 = input(\"Enter three numbers: \").split()\n",
    "if (num1 >= num2) and (num1 >= num3):\n",
    "   largest = num1\n",
    "elif (num2 >= num1) and (num2 >= num3):\n",
    "   largest = num2\n",
    "else:\n",
    "   largest = num3\n",
    "\n",
    "print(\"The largest number is\", largest)"
   ]
  },
  {
   "cell_type": "code",
   "execution_count": 7,
   "id": "e7738407",
   "metadata": {},
   "outputs": [
    {
     "name": "stdout",
     "output_type": "stream",
     "text": [
      "5 6 3\n"
     ]
    },
    {
     "ename": "ValueError",
     "evalue": "invalid literal for int() with base 10: '5 6 3'",
     "output_type": "error",
     "traceback": [
      "\u001b[1;31m---------------------------------------------------------------------------\u001b[0m",
      "\u001b[1;31mValueError\u001b[0m                                Traceback (most recent call last)",
      "\u001b[1;32m~\\AppData\\Local\\Temp/ipykernel_17604/375891611.py\u001b[0m in \u001b[0;36m<module>\u001b[1;34m\u001b[0m\n\u001b[1;32m----> 1\u001b[1;33m \u001b[0mnum1\u001b[0m\u001b[1;33m,\u001b[0m \u001b[0mnum2\u001b[0m\u001b[1;33m,\u001b[0m \u001b[0mnum3\u001b[0m \u001b[1;33m=\u001b[0m \u001b[0mint\u001b[0m\u001b[1;33m(\u001b[0m \u001b[0minput\u001b[0m\u001b[1;33m(\u001b[0m\u001b[1;33m)\u001b[0m\u001b[1;33m)\u001b[0m\u001b[1;33m.\u001b[0m\u001b[0msplit\u001b[0m\u001b[1;33m(\u001b[0m\u001b[1;33m)\u001b[0m\u001b[1;33m\u001b[0m\u001b[1;33m\u001b[0m\u001b[0m\n\u001b[0m\u001b[0;32m      2\u001b[0m \u001b[1;32mif\u001b[0m \u001b[1;33m(\u001b[0m\u001b[0mnum1\u001b[0m \u001b[1;33m>=\u001b[0m \u001b[0mnum2\u001b[0m\u001b[1;33m)\u001b[0m \u001b[1;32mand\u001b[0m \u001b[1;33m(\u001b[0m\u001b[0mnum1\u001b[0m \u001b[1;33m>=\u001b[0m \u001b[0mnum3\u001b[0m\u001b[1;33m)\u001b[0m\u001b[1;33m:\u001b[0m\u001b[1;33m\u001b[0m\u001b[1;33m\u001b[0m\u001b[0m\n\u001b[0;32m      3\u001b[0m    \u001b[0mlargest\u001b[0m \u001b[1;33m=\u001b[0m \u001b[0mnum1\u001b[0m\u001b[1;33m\u001b[0m\u001b[1;33m\u001b[0m\u001b[0m\n\u001b[0;32m      4\u001b[0m \u001b[1;32melif\u001b[0m \u001b[1;33m(\u001b[0m\u001b[0mnum2\u001b[0m \u001b[1;33m>=\u001b[0m \u001b[0mnum1\u001b[0m\u001b[1;33m)\u001b[0m \u001b[1;32mand\u001b[0m \u001b[1;33m(\u001b[0m\u001b[0mnum2\u001b[0m \u001b[1;33m>=\u001b[0m \u001b[0mnum3\u001b[0m\u001b[1;33m)\u001b[0m\u001b[1;33m:\u001b[0m\u001b[1;33m\u001b[0m\u001b[1;33m\u001b[0m\u001b[0m\n\u001b[0;32m      5\u001b[0m    \u001b[0mlargest\u001b[0m \u001b[1;33m=\u001b[0m \u001b[0mnum2\u001b[0m\u001b[1;33m\u001b[0m\u001b[1;33m\u001b[0m\u001b[0m\n",
      "\u001b[1;31mValueError\u001b[0m: invalid literal for int() with base 10: '5 6 3'"
     ]
    }
   ],
   "source": [
    "num1, num2, num3 = int( input()).split()\n",
    "if (num1 >= num2) and (num1 >= num3):\n",
    "   largest = num1\n",
    "elif (num2 >= num1) and (num2 >= num3):\n",
    "   largest = num2\n",
    "else:\n",
    "   largest = num3\n",
    "\n",
    "print(\"The largest number is\", largest)"
   ]
  },
  {
   "cell_type": "code",
   "execution_count": 8,
   "id": "5bf4bb19",
   "metadata": {
    "scrolled": false
   },
   "outputs": [
    {
     "ename": "SyntaxError",
     "evalue": "invalid syntax (Temp/ipykernel_17604/1032290651.py, line 2)",
     "output_type": "error",
     "traceback": [
      "\u001b[1;36m  File \u001b[1;32m\"C:\\Users\\TESTBOOK\\AppData\\Local\\Temp/ipykernel_17604/1032290651.py\"\u001b[1;36m, line \u001b[1;32m2\u001b[0m\n\u001b[1;33m    if A%5==0 and A%11==\u001b[0m\n\u001b[1;37m                        ^\u001b[0m\n\u001b[1;31mSyntaxError\u001b[0m\u001b[1;31m:\u001b[0m invalid syntax\n"
     ]
    }
   ],
   "source": []
  },
  {
   "cell_type": "code",
   "execution_count": 10,
   "id": "5e405202",
   "metadata": {},
   "outputs": [
    {
     "ename": "SyntaxError",
     "evalue": "invalid syntax (Temp/ipykernel_17604/2160490512.py, line 2)",
     "output_type": "error",
     "traceback": [
      "\u001b[1;36m  File \u001b[1;32m\"C:\\Users\\TESTBOOK\\AppData\\Local\\Temp/ipykernel_17604/2160490512.py\"\u001b[1;36m, line \u001b[1;32m2\u001b[0m\n\u001b[1;33m    if (%5==0 and A%11==0)\u001b[0m\n\u001b[1;37m        ^\u001b[0m\n\u001b[1;31mSyntaxError\u001b[0m\u001b[1;31m:\u001b[0m invalid syntax\n"
     ]
    }
   ],
   "source": []
  },
  {
   "cell_type": "code",
   "execution_count": 1,
   "id": "b27f5e32",
   "metadata": {},
   "outputs": [
    {
     "ename": "SyntaxError",
     "evalue": "invalid syntax (Temp/ipykernel_12596/2160490512.py, line 2)",
     "output_type": "error",
     "traceback": [
      "\u001b[1;36m  File \u001b[1;32m\"C:\\Users\\TESTBOOK\\AppData\\Local\\Temp/ipykernel_12596/2160490512.py\"\u001b[1;36m, line \u001b[1;32m2\u001b[0m\n\u001b[1;33m    if (%5==0 and A%11==0)\u001b[0m\n\u001b[1;37m        ^\u001b[0m\n\u001b[1;31mSyntaxError\u001b[0m\u001b[1;31m:\u001b[0m invalid syntax\n"
     ]
    }
   ],
   "source": []
  },
  {
   "cell_type": "code",
   "execution_count": 3,
   "id": "e9914291",
   "metadata": {},
   "outputs": [
    {
     "ename": "SyntaxError",
     "evalue": "invalid syntax (Temp/ipykernel_12596/1361995748.py, line 2)",
     "output_type": "error",
     "traceback": [
      "\u001b[1;36m  File \u001b[1;32m\"C:\\Users\\TESTBOOK\\AppData\\Local\\Temp/ipykernel_12596/1361995748.py\"\u001b[1;36m, line \u001b[1;32m2\u001b[0m\n\u001b[1;33m    if (A % 5 == 0 and A % 11 == 0)\u001b[0m\n\u001b[1;37m                                   ^\u001b[0m\n\u001b[1;31mSyntaxError\u001b[0m\u001b[1;31m:\u001b[0m invalid syntax\n"
     ]
    }
   ],
   "source": []
  },
  {
   "cell_type": "code",
   "execution_count": 3,
   "id": "b4c7f361",
   "metadata": {},
   "outputs": [
    {
     "ename": "IndentationError",
     "evalue": "expected an indented block (Temp/ipykernel_24352/3389057942.py, line 3)",
     "output_type": "error",
     "traceback": [
      "\u001b[1;36m  File \u001b[1;32m\"C:\\Users\\TESTBOOK\\AppData\\Local\\Temp/ipykernel_24352/3389057942.py\"\u001b[1;36m, line \u001b[1;32m3\u001b[0m\n\u001b[1;33m    print(\"1\")\u001b[0m\n\u001b[1;37m    ^\u001b[0m\n\u001b[1;31mIndentationError\u001b[0m\u001b[1;31m:\u001b[0m expected an indented block\n"
     ]
    }
   ],
   "source": []
  },
  {
   "cell_type": "code",
   "execution_count": 2,
   "id": "7b846e41",
   "metadata": {},
   "outputs": [
    {
     "name": "stdout",
     "output_type": "stream",
     "text": [
      " Please Enter any Positive Integer : 12\n",
      "Given Number 12 is Not Divisible by 5 and 11\n"
     ]
    }
   ],
   "source": [
    "number = int(input(\" Please Enter any Positive Integer : \"))\n",
    "\n",
    "if((number % 5 == 0) and (number % 11 == 0)):\n",
    "    print(\"Given Number {0} is Divisible by 5 and 11\".format(number))\n",
    "else:\n",
    "    print(\"Given Number {0} is Not Divisible by 5 and 11\".format(number))"
   ]
  },
  {
   "cell_type": "code",
   "execution_count": 4,
   "id": "750bf002",
   "metadata": {},
   "outputs": [
    {
     "ename": "IndentationError",
     "evalue": "expected an indented block (Temp/ipykernel_24352/1559993833.py, line 3)",
     "output_type": "error",
     "traceback": [
      "\u001b[1;36m  File \u001b[1;32m\"C:\\Users\\TESTBOOK\\AppData\\Local\\Temp/ipykernel_24352/1559993833.py\"\u001b[1;36m, line \u001b[1;32m3\u001b[0m\n\u001b[1;33m    print(\"1\")\u001b[0m\n\u001b[1;37m    ^\u001b[0m\n\u001b[1;31mIndentationError\u001b[0m\u001b[1;31m:\u001b[0m expected an indented block\n"
     ]
    }
   ],
   "source": [
    "A = int(input(\" Enter Number\"))\n",
    "if ((A % 5 == 0) and (A % 11 == 0)):\n",
    "print(\"1\")\n",
    "else:\n",
    "print(\"0\")"
   ]
  },
  {
   "cell_type": "markdown",
   "id": "22e0eb94",
   "metadata": {},
   "source": [
    "# **Nested if-else statements**"
   ]
  },
  {
   "cell_type": "code",
   "execution_count": 3,
   "id": "7c416d12",
   "metadata": {},
   "outputs": [
    {
     "name": "stdout",
     "output_type": "stream",
     "text": [
      "501\n",
      "305\n",
      "Lets Party\n",
      "Order Pizzas\n"
     ]
    }
   ],
   "source": [
    "marks= int(input())\n",
    "budget = int(input())\n",
    "if marks > 500:\n",
    "    print(\"Lets Party\")\n",
    "    if budget>300:\n",
    "        print(\"Order Pizzas\")\n",
    "    else:\n",
    "        print(\"Order Burgers\")\n",
    "elif marks < 300:\n",
    "    print(\"Better Luck next time\")\n",
    "    if budget > 100:\n",
    "        print(\"Order Pasta\")\n",
    "    else:\n",
    "        print(\"Order Cold Drink\")\n",
    "else:\n",
    "    print(\"Work Hard\")\n",
    "    \n",
    "    \n",
    "    "
   ]
  },
  {
   "cell_type": "code",
   "execution_count": 4,
   "id": "b7859310",
   "metadata": {},
   "outputs": [
    {
     "name": "stdout",
     "output_type": "stream",
     "text": [
      "Enter marks & budget: 508 208\n",
      "Lets Party\n",
      "Order Burgers\n"
     ]
    }
   ],
   "source": [
    "marks,budget = input(\"Enter marks & budget: \").split()\n",
    "marks,budget = int(marks),int(budget)\n",
    "if marks > 500:\n",
    "    print(\"Lets Party\")\n",
    "    if budget>300:\n",
    "        print(\"Order Pizzas\")\n",
    "    else:\n",
    "        print(\"Order Burgers\")\n",
    "elif marks < 300:\n",
    "    print(\"Better Luck next time\")\n",
    "    if budget > 100:\n",
    "        print(\"Order Pasta\")\n",
    "    else:\n",
    "        print(\"Order Cold Drink\")\n",
    "else:\n",
    "    print(\"Work Hard\")"
   ]
  },
  {
   "cell_type": "code",
   "execution_count": null,
   "id": "caec8643",
   "metadata": {},
   "outputs": [],
   "source": []
  }
 ],
 "metadata": {
  "kernelspec": {
   "display_name": "Python 3 (ipykernel)",
   "language": "python",
   "name": "python3"
  },
  "language_info": {
   "codemirror_mode": {
    "name": "ipython",
    "version": 3
   },
   "file_extension": ".py",
   "mimetype": "text/x-python",
   "name": "python",
   "nbconvert_exporter": "python",
   "pygments_lexer": "ipython3",
   "version": "3.9.7"
  }
 },
 "nbformat": 4,
 "nbformat_minor": 5
}
