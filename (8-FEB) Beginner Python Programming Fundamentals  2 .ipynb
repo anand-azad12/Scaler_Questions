{
 "cells": [
  {
   "cell_type": "markdown",
   "id": "d3b0ac00",
   "metadata": {},
   "source": [
    "# Assignments"
   ]
  },
  {
   "cell_type": "markdown",
   "id": "160cd259",
   "metadata": {},
   "source": [
    "# Question 1:\n",
    "\n",
    "# Write a program to input T numbers(N) from user and print count of digits of the given numbers.\n",
    "\n"
   ]
  },
  {
   "cell_type": "markdown",
   "id": "6cbca5b6",
   "metadata": {},
   "source": [
    "**Input :**\n",
    "\n",
    "2\n",
    "\n",
    "100\n",
    "\n",
    "10101"
   ]
  },
  {
   "cell_type": "markdown",
   "id": "0bcc8c18",
   "metadata": {},
   "source": [
    "**Output :**\n",
    "\n",
    "3\n",
    "\n",
    "5"
   ]
  },
  {
   "cell_type": "markdown",
   "id": "6f7a6f1f",
   "metadata": {},
   "source": [
    "![Smart](https://i.imgflip.com/1j8x99.jpg)"
   ]
  },
  {
   "cell_type": "code",
   "execution_count": 2,
   "id": "e672fdfe",
   "metadata": {},
   "outputs": [
    {
     "name": "stdout",
     "output_type": "stream",
     "text": [
      "5\n",
      "1213\n",
      "4\n",
      "1254\n",
      "4\n",
      "1256\n",
      "4\n",
      "21\n",
      "2\n",
      "235\n",
      "3\n"
     ]
    }
   ],
   "source": [
    "def main():\n",
    "    # YOUR CODE GOES HERE\n",
    "    # Please take input and print output to standard input/output (stdin/stdout)\n",
    "    # E.g. 'input()/raw_input()' for input & 'print' for output\n",
    "    operation=int(input())\n",
    "    for i in range(operation):\n",
    "        num = int(input())\n",
    "        count = len(str(num))\n",
    "        print(count)\n",
    "\n",
    "\n",
    "    return 0\n",
    "\n",
    "if __name__ == '__main__':\n",
    "    main()"
   ]
  },
  {
   "cell_type": "markdown",
   "id": "2013c2d6",
   "metadata": {},
   "source": [
    "# Question 2:\n",
    "\n",
    "# Write a program to input T numbers(N) from user and find reverse of the given number."
   ]
  },
  {
   "cell_type": "markdown",
   "id": "178ba572",
   "metadata": {},
   "source": [
    "**Input :**\n",
    "\n",
    "2\n",
    "\n",
    "101\n",
    "\n",
    "105"
   ]
  },
  {
   "cell_type": "markdown",
   "id": "6fe46c03",
   "metadata": {},
   "source": [
    "**Output :**\n",
    "\n",
    "101\n",
    "\n",
    "501"
   ]
  },
  {
   "cell_type": "markdown",
   "id": "459d94ac",
   "metadata": {},
   "source": [
    "# Using Slicing Method- string only"
   ]
  },
  {
   "cell_type": "code",
   "execution_count": 1,
   "id": "9269b58b",
   "metadata": {},
   "outputs": [
    {
     "name": "stdout",
     "output_type": "stream",
     "text": [
      "2\n",
      "124\n",
      "421\n",
      "256\n",
      "652\n"
     ]
    }
   ],
   "source": [
    "operation = int(input())\n",
    "for i in range (operation):\n",
    "    num = int(input())\n",
    "    new_num = str(num)\n",
    "    reverse = new_num[::-1]\n",
    "    print (reverse)"
   ]
  },
  {
   "cell_type": "markdown",
   "id": "6375a2f5",
   "metadata": {},
   "source": [
    "# Using floor division method- intergers permitted"
   ]
  },
  {
   "cell_type": "markdown",
   "id": "43062f30",
   "metadata": {},
   "source": [
    "![output](https://media.geeksforgeeks.org/wp-content/cdn-uploads/program-to-reverse-digits-of-a-number-1024x512.png)"
   ]
  },
  {
   "cell_type": "markdown",
   "id": "90829429",
   "metadata": {},
   "source": [
    "Algorithm:\n",
    "\n",
    "Input:  num\n",
    "\n",
    "(1) Initialize rev_num = 0\n",
    "\n",
    "(2) Loop while num > 0\n",
    "\n",
    "     (a) Multiply rev_num by 10 and add remainder of num  \n",
    "          divide by 10 to rev_num\n",
    "               rev_num = rev_num*10 + num%10;\n",
    "     (b) Divide num by 10\n",
    "     \n",
    "(3) Return rev_num"
   ]
  },
  {
   "cell_type": "code",
   "execution_count": 1,
   "id": "74d6d419",
   "metadata": {},
   "outputs": [
    {
     "name": "stdout",
     "output_type": "stream",
     "text": [
      "2\n",
      "123\n",
      "321\n",
      "002\n",
      "2\n"
     ]
    }
   ],
   "source": [
    "def main():\n",
    "    # YOUR CODE GOES HERE\n",
    "    # Please take input and print output to standard input/output (stdin/stdout)\n",
    "    # E.g. 'input()/raw_input()' for input & 'print' for output\n",
    "    operation = int(input())\n",
    "    for i in range(operation):\n",
    "        num = int(input())\n",
    "        rev = 0\n",
    "        while(num > 0):\n",
    "            a = num % 10\n",
    "            rev = rev * 10 + a\n",
    "            num = num // 10\n",
    "        print(rev)        \n",
    "\n",
    "    return 0\n",
    "\n",
    "if __name__ == '__main__':\n",
    "    main()\n"
   ]
  },
  {
   "cell_type": "markdown",
   "id": "b1ccb54d",
   "metadata": {},
   "source": [
    "# Question 3:\n",
    "\n",
    "# You are given an integer N you need to print all the Prime Numbers between 1 and N.\n"
   ]
  },
  {
   "cell_type": "markdown",
   "id": "53a3d1d3",
   "metadata": {},
   "source": [
    "**Prime numbers are numbers that have only 2 factors: 1 and themselves. For example, the first 5 prime numbers are 2, 3, 5, 7, and 11.**"
   ]
  },
  {
   "cell_type": "markdown",
   "id": "6275d825",
   "metadata": {},
   "source": [
    "**We already know that 1 is not a prime number, so we won't be checking for 1.**"
   ]
  },
  {
   "cell_type": "markdown",
   "id": "d47b043f",
   "metadata": {},
   "source": [
    "![Shut_up](https://i.imgflip.com/4/3a7qxu.jpg)"
   ]
  },
  {
   "cell_type": "markdown",
   "id": "4405e2ad",
   "metadata": {},
   "source": [
    "## This program solution can be found by using function creating method at <a href=\"https://www.youtube.com/watch?v=c84Y8aWYDh0\" target=\"_blank\">this link</a>"
   ]
  },
  {
   "cell_type": "markdown",
   "id": "c2ad471b",
   "metadata": {},
   "source": [
    "# Correct_Code:"
   ]
  },
  {
   "cell_type": "code",
   "execution_count": 6,
   "id": "10260814",
   "metadata": {},
   "outputs": [
    {
     "name": "stdout",
     "output_type": "stream",
     "text": [
      "5\n",
      "2\n",
      "3\n",
      "5\n"
     ]
    }
   ],
   "source": [
    "def main():\n",
    "    # YOUR CODE GOES HERE\n",
    "    # Please take input and print output to standard input/output (stdin/stdout)\n",
    "    # E.g. 'input()/raw_input()' for input & 'print' for output\n",
    "    def isPrime(n):\n",
    "      #since 0 and 1 is not prime return false.\n",
    "      if(n==1 or n==0):\n",
    "        return False\n",
    "\n",
    "      #Run a loop from 2 to n/2\n",
    "      for i in range(2,(n//2)+1):\n",
    "        #if the number is divisible by i, then n is not a prime number.\n",
    "        if(n%i==0):\n",
    "          return False\n",
    "\n",
    "      #otherwise, n is prime number.\n",
    "      return True\n",
    "\n",
    "\n",
    "\n",
    "    # Driver code\n",
    "    N = int(input());\n",
    "    #check for every number from 1 to N\n",
    "    for i in range(1,N+1):\n",
    "      #check if current number is prime\n",
    "      if(isPrime(i)):\n",
    "        print(i,end=\"\\n\")\n",
    "                    \n",
    " \n",
    "    return 0\n",
    "\n",
    "if __name__ == '__main__':\n",
    "    main()"
   ]
  },
  {
   "cell_type": "markdown",
   "id": "b5f9770c",
   "metadata": {},
   "source": [
    "# Let's create a function:\n"
   ]
  },
  {
   "cell_type": "code",
   "execution_count": 6,
   "id": "507866ba",
   "metadata": {},
   "outputs": [],
   "source": [
    "def isprime(digit):\n",
    "\n",
    "    num = int(digit)\n",
    "    if num == 1:\n",
    "        #print(str(num) + \" is not a prime number\")\n",
    "        pass\n",
    "    elif num == 2:\n",
    "        #print(str(num) + \" is a prime number\")\n",
    "        return 1\n",
    "    else:    \n",
    "        for i in range(2,round(num/2)+1):\n",
    "            if num % 2 == 0:\n",
    "                #print(str(num) + \" is not a prime number\")\n",
    "                break\n",
    "            elif num % 2 != 0:\n",
    "                if i == round(num/2):\n",
    "                    #print(str(num) + \" is a prime number\")\n",
    "                    return 1\n"
   ]
  },
  {
   "cell_type": "code",
   "execution_count": 11,
   "id": "5cef7a59",
   "metadata": {},
   "outputs": [],
   "source": [
    "def primelistmaker(number):\n",
    "    n = int(number)\n",
    "    y = 1\n",
    "    counter = 0\n",
    "    yes_no_prime = 0\n",
    "    \n",
    "    list_of_primes = []\n",
    "\n",
    "    while counter <= n-1:\n",
    "        yes_no_prime = isprime(y)\n",
    "        if yes_no_prime == 1:\n",
    "            list_of_primes.append(y)\n",
    "            counter +=1\n",
    "        y +=1  \n",
    "    print(\"The list of first \"+ str(n) + \" prime numbers are:\")\n",
    "    print(list_of_primes)\n",
    "    print(len(list_of_primes))\n",
    " "
   ]
  },
  {
   "cell_type": "code",
   "execution_count": 12,
   "id": "abec7b95",
   "metadata": {},
   "outputs": [
    {
     "name": "stdout",
     "output_type": "stream",
     "text": [
      "Enter the number here: 10\n",
      "The list of first 10 prime numbers are:\n",
      "[2, 3, 5, 7, 9, 11, 13, 15, 17, 19]\n",
      "10\n"
     ]
    }
   ],
   "source": [
    "number = input(\"Enter the number here: \")\n",
    "primelistmaker(number)"
   ]
  },
  {
   "cell_type": "markdown",
   "id": "869b8d9b",
   "metadata": {},
   "source": [
    "# Trial Program: Print First N Prime Numbers (including functions)"
   ]
  },
  {
   "cell_type": "code",
   "execution_count": 39,
   "id": "0b01b643",
   "metadata": {},
   "outputs": [],
   "source": [
    "def isprime(digit):\n",
    "\n",
    "    num = int(digit)\n",
    "    if num == 1:\n",
    "        #print(str(num) + \" is not a prime number\")\n",
    "        pass\n",
    "    elif num == 2:\n",
    "        #print(str(num) + \" is a prime number\")\n",
    "        return 1\n",
    "    else:    \n",
    "        for i in range(2,round(num/2)+1):\n",
    "            if num % 2 == 0:\n",
    "                #print(str(num) + \" is not a prime number\")\n",
    "                break\n",
    "            elif num % 2 != 0:\n",
    "                if i == round(num/2):\n",
    "                    #print(str(num) + \" is a prime number\")\n",
    "                    return 1\n",
    "                \n",
    "def primelistmaker(number):\n",
    "    \n",
    "    n = int(number)\n",
    "    y = 1\n",
    "    counter = 0\n",
    "    yes_no_prime = 0\n",
    "    \n",
    "    list_of_primes = []\n",
    "\n",
    "    while counter <= n:\n",
    "        yes_no_prime = isprime(y)\n",
    "        if yes_no_prime == 1:\n",
    "            list_of_primes.append(y)\n",
    "            counter +=1\n",
    "        y +=1    \n",
    "    print(\"The list of first \"+ str(n) + \" prime numbers are:\")\n",
    "\n",
    "    print(*list_of_primes, sep =\"\\n\")\n",
    "    \n",
    "           "
   ]
  },
  {
   "cell_type": "code",
   "execution_count": 40,
   "id": "0121da07",
   "metadata": {},
   "outputs": [
    {
     "name": "stdout",
     "output_type": "stream",
     "text": [
      "Enter the number here: 5\n",
      "The list of first 5 prime numbers are:\n",
      "2\n",
      "3\n",
      "5\n",
      "7\n",
      "9\n",
      "11\n"
     ]
    }
   ],
   "source": [
    "number = input(\"Enter the number here: \")\n",
    "primelistmaker(number)"
   ]
  },
  {
   "cell_type": "markdown",
   "id": "57cb5129",
   "metadata": {},
   "source": [
    "# Program to print primes till Nth number :\n"
   ]
  },
  {
   "cell_type": "code",
   "execution_count": 1,
   "id": "ee0ccb13",
   "metadata": {},
   "outputs": [],
   "source": [
    "def isprime(digit):\n",
    "\n",
    "    num = int(digit)\n",
    "    if num == 1:\n",
    "        #print(str(num) + \" is not a prime number\")\n",
    "        pass\n",
    "    elif num == 2:\n",
    "        #print(str(num) + \" is a prime number\")\n",
    "        return 1\n",
    "    else:    \n",
    "        for i in range(2,round(num/2)+1):\n",
    "            if num % 2 == 0:\n",
    "                #print(str(num) + \" is not a prime number\")\n",
    "                break\n",
    "            elif num % 2 != 0:\n",
    "                if i == round(num/2):\n",
    "                    #print(str(num) + \" is a prime number\")\n",
    "                    return 1\n",
    "                \n",
    "def primelistmaker(number):\n",
    "    \n",
    "    n = int(number)\n",
    "    y = 1\n",
    "    counter = 0\n",
    "    yes_no_prime = 0\n",
    "    \n",
    "    list_of_primes = []\n",
    "\n",
    "    while y <= n:\n",
    "        yes_no_prime = isprime(y)\n",
    "        if yes_no_prime == 1:\n",
    "            list_of_primes.append(y)\n",
    "            #counter +=1\n",
    "        y +=1    \n",
    "    print(\"The list of first \"+ str(n) + \" prime numbers are:\")\n",
    "\n",
    "    print(*list_of_primes, sep =\"\\n\")\n",
    "               "
   ]
  },
  {
   "cell_type": "code",
   "execution_count": 2,
   "id": "c43bdb82",
   "metadata": {},
   "outputs": [
    {
     "name": "stdout",
     "output_type": "stream",
     "text": [
      "Enter the number here: 11\n",
      "The list of first 11 prime numbers are:\n",
      "2\n",
      "3\n",
      "5\n",
      "7\n",
      "9\n",
      "11\n"
     ]
    }
   ],
   "source": [
    "number = input(\"Enter the number here: \")\n",
    "primelistmaker(number)"
   ]
  },
  {
   "cell_type": "code",
   "execution_count": 5,
   "id": "947c6fe7",
   "metadata": {
    "scrolled": false
   },
   "outputs": [
    {
     "name": "stdout",
     "output_type": "stream",
     "text": [
      "5\n",
      "2\n",
      "3\n",
      "5\n"
     ]
    }
   ],
   "source": [
    "def isPrime(n):\n",
    "  #since 0 and 1 is not prime return false.\n",
    "  if(n==1 or n==0):\n",
    "    return False\n",
    "   \n",
    "  #Run a loop from 2 to n/2\n",
    "  for i in range(2,(n//2)+1):\n",
    "    #if the number is divisible by i, then n is not a prime number.\n",
    "    if(n%i==0):\n",
    "      return False\n",
    "   \n",
    "  #otherwise, n is prime number.\n",
    "  return True\n",
    " \n",
    " \n",
    " \n",
    "# Driver code\n",
    "N = int(input());\n",
    "#check for every number from 1 to N\n",
    "for i in range(1,N+1):\n",
    "  #check if current number is prime\n",
    "  if(isPrime(i)):\n",
    "    print(i,end=\"\\n\")"
   ]
  },
  {
   "cell_type": "markdown",
   "id": "ed658350",
   "metadata": {},
   "source": [
    "# Homework Problems:"
   ]
  },
  {
   "cell_type": "markdown",
   "id": "3636227f",
   "metadata": {},
   "source": [
    "### Question 1:\n",
    "## Given an integer A, determine whether it is palindromic or not.\n",
    "\n",
    "**A palindrome integer is an integer X for which reverse(X) = X where reverse(X) is X with its digits reversed. For e.g., reverse(123) = 321.**"
   ]
  },
  {
   "cell_type": "markdown",
   "id": "22a0c0a2",
   "metadata": {},
   "source": [
    "**What is a Palindrome?**\n",
    "\n",
    "* *A palindrome is nothing but any number or a string which remains unaltered when reversed.*\n",
    "\n",
    "**Example:** 12321\n",
    "\n",
    "**Output:** Yes, a Palindrome number\n",
    "\n",
    "**Example:** RACECAR\n",
    "\n",
    "**Output:** Yes, a Palindrome string"
   ]
  },
  {
   "cell_type": "markdown",
   "id": "757717dd",
   "metadata": {},
   "source": [
    "# String_Method_Code:"
   ]
  },
  {
   "cell_type": "code",
   "execution_count": 5,
   "id": "59319446",
   "metadata": {},
   "outputs": [
    {
     "name": "stdout",
     "output_type": "stream",
     "text": [
      "Enter a string:RACECAR\n",
      "The string is a palindrome\n"
     ]
    }
   ],
   "source": [
    "string = input((\"Enter a string:\"))\n",
    "if(string==string[::-1]):\n",
    "      print(\"The string is a palindrome\")\n",
    "else:\n",
    "      print(\"Not a palindrome\")"
   ]
  },
  {
   "cell_type": "markdown",
   "id": "88143ef1",
   "metadata": {},
   "source": [
    "# Integer Method_Correct Code: "
   ]
  },
  {
   "cell_type": "code",
   "execution_count": 25,
   "id": "b1277d27",
   "metadata": {},
   "outputs": [
    {
     "name": "stdout",
     "output_type": "stream",
     "text": [
      "Enter a number:121\n",
      "The number is palindrome!\n"
     ]
    }
   ],
   "source": [
    "num=int(input(\"Enter a number:\"))\n",
    "temp=num\n",
    "rev=0\n",
    "while(num>0):\n",
    "    dig=num%10\n",
    "    rev=rev*10+dig\n",
    "    num=num//10\n",
    "if(temp==rev):\n",
    "    print(\"The number is palindrome!\")\n",
    "else:\n",
    "    print(\"Not a palindrome!\")"
   ]
  },
  {
   "cell_type": "code",
   "execution_count": 44,
   "id": "c1c42e62",
   "metadata": {},
   "outputs": [
    {
     "name": "stdout",
     "output_type": "stream",
     "text": [
      "121\n",
      "Yes Palindrome\n"
     ]
    }
   ],
   "source": [
    "num = int(input())\n",
    "temp = num\n",
    "rev = 0\n",
    "\n",
    "while (num>0):\n",
    "    # This will return the remainder and give the unit digit\n",
    "    digit = num % 10\n",
    "    \n",
    "    # This will help us in reverse the unit digit \n",
    "    rev = rev*10 + digit\n",
    "    \n",
    "    # This will give us the floor divison Quotient \n",
    "    num = num // 10\n",
    "    \n",
    "if (temp == rev):\n",
    "    print(\"Yes Palindrome\")\n",
    "else:\n",
    "    print(\"NO Palindrome\")"
   ]
  },
  {
   "cell_type": "markdown",
   "id": "6555dbad",
   "metadata": {},
   "source": [
    "# Palindrome Program using Function: \n",
    "\n",
    "## This program solution can be found by using function creating method at <a href=\"https://www.youtube.com/watch?v=yubRKwixN-U\" target=\"_blank\">this link</a>"
   ]
  },
  {
   "cell_type": "code",
   "execution_count": 11,
   "id": "ab476cbc",
   "metadata": {},
   "outputs": [
    {
     "name": "stdout",
     "output_type": "stream",
     "text": [
      "121\n",
      "Yes Palindrome\n"
     ]
    }
   ],
   "source": [
    "def ispalindrome(num):\n",
    "    num = int()\n",
    "    if num < 0 : return False\n",
    "    \n",
    "    div = 1\n",
    "    while num >= 10 * div:\n",
    "        div*=10\n",
    "    while num:\n",
    "        right = num % 10\n",
    "        left = num // div\n",
    "        \n",
    "        if left != right: \n",
    "            print(\"Not Palindrome\")\n",
    "        num = (num % div) // 10\n",
    "        div = div / 100\n",
    "    print(\"Yes Palindrome\")\n",
    "num = input()\n",
    "ispalindrome(num)"
   ]
  },
  {
   "cell_type": "markdown",
   "id": "8a9c6ced",
   "metadata": {},
   "source": [
    "### Question 2:\n",
    "\n",
    "# You are given two integers A and B. You have to find the value of AB.\n",
    "\n",
    "#### NOTE: The value of answer is always less than or equal to 109."
   ]
  },
  {
   "cell_type": "markdown",
   "id": "35de10bf",
   "metadata": {},
   "source": [
    "### Input_Method - I"
   ]
  },
  {
   "cell_type": "code",
   "execution_count": 7,
   "id": "b2e85e70",
   "metadata": {},
   "outputs": [
    {
     "name": "stdout",
     "output_type": "stream",
     "text": [
      "2,5\n",
      "32\n"
     ]
    }
   ],
   "source": [
    "a,b = input().split(',')\n",
    "a,b = int(a),int(b)\n",
    "print(pow(a,b))\n"
   ]
  },
  {
   "cell_type": "markdown",
   "id": "98c40406",
   "metadata": {},
   "source": [
    "### Input_Method - II\n"
   ]
  },
  {
   "cell_type": "code",
   "execution_count": 8,
   "id": "ded499a4",
   "metadata": {},
   "outputs": [
    {
     "name": "stdout",
     "output_type": "stream",
     "text": [
      "2\n",
      "5\n",
      "32\n"
     ]
    }
   ],
   "source": [
    "a = int(input())\n",
    "b = int(input())\n",
    "print(pow(a,b))\n"
   ]
  },
  {
   "cell_type": "markdown",
   "id": "23b93acd",
   "metadata": {},
   "source": [
    "## Question 3:\n",
    "\n",
    "### Given a month number, A and an year, B, return the number of days in that month (take leap years into account)."
   ]
  },
  {
   "cell_type": "markdown",
   "id": "97379575",
   "metadata": {},
   "source": [
    "**Input 1:**\n",
    "\n",
    " A = 2\n",
    " \n",
    " B = 2020\n",
    " \n",
    "**Input 2:**\n",
    "\n",
    " A = 10\n",
    " \n",
    " B = 1999"
   ]
  },
  {
   "cell_type": "markdown",
   "id": "f49c21ed",
   "metadata": {},
   "source": [
    "**Output 1:**\n",
    "\n",
    " 29\n",
    "\n",
    "**Output 2:**\n",
    "\n",
    " 31"
   ]
  },
  {
   "cell_type": "markdown",
   "id": "ddeae938",
   "metadata": {},
   "source": [
    "![Dexter](https://i.kym-cdn.com/entries/icons/facebook/000/015/487/failure.jpg)\n",
    "\n",
    "### How to Check Whether a Year is a Leap Year or Not?\n",
    "\n",
    "* A leap year has 366 days (the extra day is the 29th of February), and it comes after every four years. \n",
    "* To check if a year is a leap year, divide the year by 4. \n",
    "* If it is fully divisible by 4, it is a leap year. For example, the year 2016 is divisible 4, so it is a leap year, whereas, 2015 is not.\n",
    "\n",
    "**Note: However, Century years like 300, 700, 1900, 2000 need to be divided by 400 to check whether they are leap years or not.**"
   ]
  },
  {
   "cell_type": "markdown",
   "id": "1ed1ad64",
   "metadata": {},
   "source": [
    "# Using Dictionary: Wrong_code"
   ]
  },
  {
   "cell_type": "code",
   "execution_count": 9,
   "id": "acca9612",
   "metadata": {},
   "outputs": [
    {
     "ename": "SyntaxError",
     "evalue": "invalid syntax (Temp/ipykernel_41196/3336795272.py, line 2)",
     "output_type": "error",
     "traceback": [
      "\u001b[1;36m  File \u001b[1;32m\"C:\\Users\\TESTBOOK\\AppData\\Local\\Temp/ipykernel_41196/3336795272.py\"\u001b[1;36m, line \u001b[1;32m2\u001b[0m\n\u001b[1;33m    leap_year = {1:{'Jan':[31]},2:{'Feb':[29]},3:{'Mar':[31]},4:{'Apr':[30]},5:{'May':[31]},6:{'Jun':[30]},7:{'Jul':[31]},8:{'Aug':[31]},9:{'Sept':[30]},10:{'Oct':[31]},11:{'Nov':[30]},12:{'Dec':[31]}\u001b[0m\n\u001b[1;37m    ^\u001b[0m\n\u001b[1;31mSyntaxError\u001b[0m\u001b[1;31m:\u001b[0m invalid syntax\n"
     ]
    }
   ],
   "source": [
    "common_year = {1:{'Jan':[31]},2:{'Feb':[28]},3:{'Mar':[31]},4:{'Apr':[30]},5:{'May':[31]},6:{'Jun':[30]},7:{'Jul':[31]},8:{'Aug':[31]},9:{'Sept':[30]},10:{'Oct':[31]},11:{'Nov':[30]},12:{'Dec':[31]}\n",
    "leap_year = {1:{'Jan':[31]},2:{'Feb':[29]},3:{'Mar':[31]},4:{'Apr':[30]},5:{'May':[31]},6:{'Jun':[30]},7:{'Jul':[31]},8:{'Aug':[31]},9:{'Sept':[30]},10:{'Oct':[31]},11:{'Nov':[30]},12:{'Dec':[31]}\n",
    "  \n",
    "    \n",
    "A = int(input())\n",
    "for i in range (1,13):\n",
    "    B = int (input())\n",
    "    if B % 4 == 0:\n",
    "        if (B % 400 == 0):\n",
    "            print(\"It's a Leap year: \",B)\n",
    "            print (\"Number of days are: \")\n",
    "            for i in leap_year :\n",
    "                print(i,leap_year[i])\n",
    "        else:\n",
    "            print(\"It's a Common Year: \",B)\n",
    "            print (\"Number of days are: \")\n",
    "            for i in common_year :\n",
    "                print(i,common_year[i])\n",
    "                \n",
    "    elif (B % 100 == 0):\n",
    "        print(\"It's a Common Year: \",B)\n",
    "        print (\"Number of days are: \")\n",
    "        for i in common_year :\n",
    "            print(i,common_year[i])\n",
    "        \n",
    "    else:\n",
    "        pass"
   ]
  },
  {
   "cell_type": "markdown",
   "id": "04ce942b",
   "metadata": {},
   "source": [
    "# Corrent_Code"
   ]
  },
  {
   "cell_type": "code",
   "execution_count": 11,
   "id": "35cff136",
   "metadata": {},
   "outputs": [
    {
     "name": "stdout",
     "output_type": "stream",
     "text": [
      "12\n",
      "1999\n",
      "Number of days in 12 is 31 \n"
     ]
    }
   ],
   "source": [
    "month = int(input())\n",
    "year = int(input())\n",
    "if month in (1,3,5,7,8,10,12):\n",
    "    no_days = 31\n",
    "    print(\"Number of days in %d is %d \" %(month,no_days))\n",
    "elif month in (4,6,9,11):\n",
    "    no_days = 30\n",
    "    print(\"Number of days in %d is %d\" %(month,no_days))\n",
    "elif month ==2:\n",
    "    if (year % 4 == 0) and (not(year%100==0) or (year%400 == 0)):\n",
    "        no_days=29\n",
    "    else:\n",
    "        no_days=28\n",
    "        print(\"Number of days in %d is %d\" %(month,no_days))\n",
    "else:\n",
    "    print(\"Invalid Entry\")"
   ]
  },
  {
   "cell_type": "code",
   "execution_count": 14,
   "id": "2c49a286",
   "metadata": {},
   "outputs": [
    {
     "name": "stdout",
     "output_type": "stream",
     "text": [
      "2\n",
      "1996\n",
      "29\n"
     ]
    }
   ],
   "source": [
    "\n",
    "        A = int(input())\n",
    "        B = int(input())\n",
    "        \n",
    "        if A in (1,3,5,7,8,10,12):\n",
    "            no_days = 31\n",
    "            print(no_days)\n",
    "        elif A in (4,6,9,11):\n",
    "            no_days = 30\n",
    "            print(no_days)\n",
    "        elif A == 2:\n",
    "            if (B % 4 == 0) and (not(B % 100 == 0) or (B % 400 == 0)):\n",
    "                no_days=29\n",
    "                print(no_days)\n",
    "            else:\n",
    "                no_days=28\n",
    "                print(no_days)\n",
    "        else:\n",
    "            print(\"Invalid Entry\")\n",
    "            \n"
   ]
  },
  {
   "cell_type": "markdown",
   "id": "f27d6b7c",
   "metadata": {},
   "source": [
    "# scaler_correct_code"
   ]
  },
  {
   "cell_type": "code",
   "execution_count": 15,
   "id": "de768162",
   "metadata": {},
   "outputs": [
    {
     "name": "stdout",
     "output_type": "stream",
     "text": [
      "3\n",
      "1994\n",
      "31\n"
     ]
    }
   ],
   "source": [
    "class Solution:\n",
    "    # @param A : integer\n",
    "    # @param B : integer\n",
    "    # @return an integer\n",
    "    def solve(self, A, B):\n",
    "        \n",
    "\n",
    "        if A in (1,3,5,7,8,10,12):\n",
    "            no_days = 31\n",
    "            return no_days\n",
    "        elif A in (4,6,9,11):\n",
    "            no_days = 30\n",
    "            return no_days\n",
    "        elif A == 2:\n",
    "            if (B % 4 == 0) and (not(B % 100 == 0) or (B % 400 == 0)):\n",
    "                no_days=29\n",
    "                return no_days\n",
    "            else:\n",
    "                no_days=28\n",
    "                return no_days\n",
    "        else:\n",
    "            pass       \n",
    "\n"
   ]
  },
  {
   "cell_type": "code",
   "execution_count": 3,
   "id": "60cfb755",
   "metadata": {},
   "outputs": [],
   "source": []
  },
  {
   "cell_type": "markdown",
   "id": "8b45a266",
   "metadata": {},
   "source": [
    "# Question 4:\n",
    "\n",
    "## You are given a lowercase latin alphabetic character C. You have to tell whether it is a vowel or not.\n",
    "\n",
    "### The characters 'a', 'e', 'i', 'o', and 'u' are called vowels."
   ]
  },
  {
   "cell_type": "code",
   "execution_count": 19,
   "id": "5c0e9570",
   "metadata": {},
   "outputs": [
    {
     "name": "stdout",
     "output_type": "stream",
     "text": [
      "A\n",
      "A is a consonant (not a vowel)\n"
     ]
    }
   ],
   "source": [
    "letter = input()    # Allowing only the lowercase \n",
    "\n",
    "if letter in ('a','e','i','o','u'):\n",
    "    print(letter,\"is a vowel\")\n",
    "else:\n",
    "    print(letter,\"is a consonant (not a vowel)\")"
   ]
  },
  {
   "cell_type": "markdown",
   "id": "e191a0e8",
   "metadata": {},
   "source": [
    "# scaler_correct_code"
   ]
  },
  {
   "cell_type": "code",
   "execution_count": null,
   "id": "6b714cd2",
   "metadata": {},
   "outputs": [],
   "source": [
    "def isvowel(C):\n",
    "    ans = None\n",
    "    # YOUR CODE GOES HERE\n",
    "    if C in ('a','e','i','o','u'):\n",
    "        return 1\n",
    "    else:\n",
    "        return 0\n",
    "\n",
    "    \n",
    "    \n",
    "    \n",
    "    return ans"
   ]
  },
  {
   "cell_type": "markdown",
   "id": "fe8779f4",
   "metadata": {},
   "source": [
    "# Question 5:\n",
    "\n",
    "## Write a program to input from user five numbers(A, B, C, D & E) representing marks of student in 5 subjects out of 100. You have to calculate percentage and then Grade of each student.\n",
    "\n",
    "* If percentage >= 90% : Grade A\n",
    "* If percentage >= 80% : Grade B\n",
    "* If percentage >= 70% : Grade C\n",
    "* If percentage >= 60% : Grade D\n",
    "* If percentage >= 40% : Grade E\n",
    "* If percentage < 40% : Grade F\n",
    "\n",
    "#### NOTE: You have to take the lowest integer of percentage. E.g. 90.8% will be treated as 90%."
   ]
  },
  {
   "cell_type": "code",
   "execution_count": 14,
   "id": "c26b3610",
   "metadata": {},
   "outputs": [
    {
     "name": "stdout",
     "output_type": "stream",
     "text": [
      "50 60 70 80 90\n",
      "72 C\n"
     ]
    }
   ],
   "source": [
    "def main():\n",
    "    # YOUR CODE GOES HERE\n",
    "    # Please take input and print output to standard input/output (stdin/stdout)\n",
    "    # E.g. 'input()/raw_input()' for input & 'print' for output\n",
    "    A,B,C,D,E=input().split(' ')\n",
    "    A,B,C,D,E=int(A),int(B),int(C),int(E),int(E)\n",
    "    total = A+B+C+D+E\n",
    "    perct = round((total/500)*100) \n",
    "\n",
    "    if perct >= 90:\n",
    "        print(perct, \"A\")\n",
    "    elif 90 > perct >= 80:\n",
    "        print(perct, \"B\")\n",
    "    elif 80 > perct >= 70:\n",
    "        print(perct, \"C\")\n",
    "    elif 70 > perct >= 60:\n",
    "        print(perct, \"D\") \n",
    "    elif 60 > perct >= 40:\n",
    "        print(perct, \"E\") \n",
    "    elif perct < 40:\n",
    "        print(perct, \"F\")\n",
    "    else:\n",
    "        pass\n",
    "\n",
    "\n",
    "    return 0\n",
    "\n",
    "if __name__ == '__main__':\n",
    "    main()"
   ]
  }
 ],
 "metadata": {
  "kernelspec": {
   "display_name": "Python 3 (ipykernel)",
   "language": "python",
   "name": "python3"
  },
  "language_info": {
   "codemirror_mode": {
    "name": "ipython",
    "version": 3
   },
   "file_extension": ".py",
   "mimetype": "text/x-python",
   "name": "python",
   "nbconvert_exporter": "python",
   "pygments_lexer": "ipython3",
   "version": "3.9.7"
  }
 },
 "nbformat": 4,
 "nbformat_minor": 5
}
