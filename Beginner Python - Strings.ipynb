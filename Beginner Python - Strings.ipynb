{
 "cells": [
  {
   "cell_type": "markdown",
   "id": "5ab49ef3",
   "metadata": {},
   "source": [
    "# Assignment:\n",
    "\n",
    "## Q1. Trim From Ends\n",
    "### You are given a character string A. You to trim(remove) both leading and trailing asterisk characters('*') in the string and return the resultant string.\n",
    "\n",
    "**Input 1:**\n",
    "\n",
    "* A = \"**h*e*l*lo*\"\n",
    "\n",
    "**Output 1:**\n",
    "\n",
    "* h*e*l*lo\n",
    "\n",
    "`\n",
    "The string has 2 leading '*' and 1 trailing '*'. Removing them, the string becomes \"hello\"."
   ]
  },
  {
   "cell_type": "markdown",
   "id": "f44cd468",
   "metadata": {},
   "source": [
    "# Scaler_Code:"
   ]
  },
  {
   "cell_type": "code",
   "execution_count": 4,
   "id": "9d031f5a",
   "metadata": {},
   "outputs": [],
   "source": [
    "class Solution:\n",
    "    # @param A : string\n",
    "    # @return a strings\n",
    "    def solve(self, A):\n",
    "\n",
    "        trim = A.strip(\"*\")\n",
    "\n",
    "        return trim   "
   ]
  },
  {
   "cell_type": "markdown",
   "id": "9d4857f5",
   "metadata": {},
   "source": [
    "![Simpson](https://content.fortune.com/wp-content/uploads/2019/01/homer-backs-into-bush-gif.jpg)"
   ]
  },
  {
   "cell_type": "markdown",
   "id": "a2f20508",
   "metadata": {},
   "source": [
    "## Article : How to <a href=\"https://realpython.com/reverse-string-python/\" target=\"_blank\">Reverse String?</a>"
   ]
  },
  {
   "cell_type": "markdown",
   "id": "2744caba",
   "metadata": {},
   "source": [
    "## GeeksForGeeks: Video <a href=\"https://www.youtube.com/watch?v=USw-dS6fHm4\" target=\"_blank\">Link?</a>"
   ]
  },
  {
   "cell_type": "markdown",
   "id": "dd2fc320",
   "metadata": {},
   "source": [
    "# Q2. Reverse string - II\n",
    "\n",
    "## Write a program to reverse the words present in a string. Everything else should be preserved.\n",
    "- Check example input/output. Note: There are no punctuation and special characters in the string.\n",
    "- The string will only contain alphanumeric characters and spaces."
   ]
  },
  {
   "cell_type": "markdown",
   "id": "ee37185c",
   "metadata": {},
   "source": [
    "**Example Input:**  *Everyone loves data science*\n",
    "\n",
    "**Example Output**: *enoyrevE sevol atad ecneics*"
   ]
  },
  {
   "cell_type": "code",
   "execution_count": 7,
   "id": "108be44a",
   "metadata": {},
   "outputs": [
    {
     "name": "stdout",
     "output_type": "stream",
     "text": [
      "This is awesome now!\n",
      "!won emosewa si sihT\n"
     ]
    }
   ],
   "source": [
    "def reverseStr(string):\n",
    "  \n",
    "    # reversing the string\n",
    "    string = list(string)\n",
    "    string.reverse()\n",
    "    string = ''.join(string)\n",
    "\n",
    "    # returning integer\n",
    "    return string\n",
    " \n",
    "# Driver code\n",
    "if __name__ == \"__main__\":\n",
    " \n",
    "    string = input()\n",
    "    print(reverseStr(string))"
   ]
  },
  {
   "cell_type": "code",
   "execution_count": 8,
   "id": "715daf5f",
   "metadata": {},
   "outputs": [
    {
     "name": "stdout",
     "output_type": "stream",
     "text": [
      "This is great too!\n",
      "!oot taerg si sihT\n"
     ]
    }
   ],
   "source": [
    "def reverseStr(string):\n",
    "  \n",
    "    # reversing the string\n",
    "    string = list(string)\n",
    "    string.reverse()\n",
    "    string = ''.join(string)\n",
    "\n",
    "    # returning integer\n",
    "    return string\n",
    " \n",
    "string = input()\n",
    "print(reverseStr(string))"
   ]
  },
  {
   "cell_type": "code",
   "execution_count": 4,
   "id": "981274c5",
   "metadata": {},
   "outputs": [
    {
     "name": "stdout",
     "output_type": "stream",
     "text": [
      "This is wesome\n"
     ]
    },
    {
     "ename": "NameError",
     "evalue": "name 'reverseStr' is not defined",
     "output_type": "error",
     "traceback": [
      "\u001b[1;31m---------------------------------------------------------------------------\u001b[0m",
      "\u001b[1;31mNameError\u001b[0m                                 Traceback (most recent call last)",
      "\u001b[1;32m~\\AppData\\Local\\Temp/ipykernel_22756/644103165.py\u001b[0m in \u001b[0;36m<module>\u001b[1;34m\u001b[0m\n\u001b[0;32m     18\u001b[0m     \u001b[0mmain\u001b[0m\u001b[1;33m(\u001b[0m\u001b[1;33m)\u001b[0m\u001b[1;33m\u001b[0m\u001b[1;33m\u001b[0m\u001b[0m\n\u001b[0;32m     19\u001b[0m     \u001b[0mstring\u001b[0m \u001b[1;33m=\u001b[0m \u001b[0minput\u001b[0m\u001b[1;33m(\u001b[0m\u001b[1;33m)\u001b[0m\u001b[1;33m\u001b[0m\u001b[1;33m\u001b[0m\u001b[0m\n\u001b[1;32m---> 20\u001b[1;33m \u001b[0mprint\u001b[0m\u001b[1;33m(\u001b[0m\u001b[0mreverseStr\u001b[0m\u001b[1;33m(\u001b[0m\u001b[0mstring\u001b[0m\u001b[1;33m)\u001b[0m\u001b[1;33m)\u001b[0m\u001b[1;33m\u001b[0m\u001b[1;33m\u001b[0m\u001b[0m\n\u001b[0m",
      "\u001b[1;31mNameError\u001b[0m: name 'reverseStr' is not defined"
     ]
    }
   ],
   "source": []
  },
  {
   "cell_type": "code",
   "execution_count": 6,
   "id": "ed8d352b",
   "metadata": {},
   "outputs": [
    {
     "name": "stdout",
     "output_type": "stream",
     "text": [
      "This is fucking awesome\n"
     ]
    },
    {
     "data": {
      "text/plain": [
       "'emosewa gnikcuf si sihT'"
      ]
     },
     "execution_count": 6,
     "metadata": {},
     "output_type": "execute_result"
    }
   ],
   "source": [
    "string = input()\n",
    "string[slice(None,None,-1)]"
   ]
  }
 ],
 "metadata": {
  "kernelspec": {
   "display_name": "Python 3 (ipykernel)",
   "language": "python",
   "name": "python3"
  },
  "language_info": {
   "codemirror_mode": {
    "name": "ipython",
    "version": 3
   },
   "file_extension": ".py",
   "mimetype": "text/x-python",
   "name": "python",
   "nbconvert_exporter": "python",
   "pygments_lexer": "ipython3",
   "version": "3.9.7"
  }
 },
 "nbformat": 4,
 "nbformat_minor": 5
}
