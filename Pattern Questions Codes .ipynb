{
 "cells": [
  {
   "cell_type": "markdown",
   "id": "d6a2e3a1",
   "metadata": {},
   "source": [
    "Learning Loops"
   ]
  },
  {
   "cell_type": "markdown",
   "id": "9feb0a80",
   "metadata": {},
   "source": [
    "We will discuss about various loops here,if,if-else,if-elif-else nested loop, while loops,for loops,etc."
   ]
  },
  {
   "cell_type": "markdown",
   "id": "8c971823",
   "metadata": {},
   "source": [
    "not only this,we will also solve the assignment problems,along the homework problems which will only be accessible once you ar done with the Assignment qeustions."
   ]
  },
  {
   "cell_type": "markdown",
   "id": "4fb0d165",
   "metadata": {},
   "source": [
    "# *THIS IS BECOMING EASY!"
   ]
  },
  {
   "cell_type": "markdown",
   "id": "d867fbe4",
   "metadata": {},
   "source": [
    "# Sum of digits of the Given numbers:"
   ]
  },
  {
   "cell_type": "code",
   "execution_count": 10,
   "id": "2c9094d4",
   "metadata": {},
   "outputs": [
    {
     "name": "stdout",
     "output_type": "stream",
     "text": [
      "3\n",
      "11\n",
      "2\n",
      "111\n",
      "3\n",
      "1111\n",
      "4\n"
     ]
    }
   ],
   "source": [
    "operation=int(input())\n",
    "i=1\n",
    "for i in range(operation):\n",
    " n= int(input())\n",
    " tot=0\n",
    " while(n>0):\n",
    "     dig=n%10\n",
    "     tot=tot+dig\n",
    "     n=n//10\n",
    " print(tot)\n",
    "i=i+1"
   ]
  },
  {
   "cell_type": "markdown",
   "id": "459dd8a9",
   "metadata": {},
   "source": [
    "# Pattern Problems"
   ]
  },
  {
   "cell_type": "markdown",
   "id": "a22aa783",
   "metadata": {},
   "source": [
    "# Pyramid Pattern:"
   ]
  },
  {
   "cell_type": "code",
   "execution_count": 123,
   "id": "6a06abf7",
   "metadata": {},
   "outputs": [
    {
     "name": "stdout",
     "output_type": "stream",
     "text": [
      "5\n",
      "     1\n",
      "    121\n",
      "   12312\n",
      "  1234123\n",
      " 123451234\n"
     ]
    }
   ],
   "source": [
    "n=int(input())\n",
    "for i in range(n):\n",
    "        for j in range (i,n):\n",
    "            print(' ',end='')\n",
    "        for j in range (i+1):\n",
    "            print(j+1,end='')\n",
    "        for j in range (i):\n",
    "            print(j+1,end='') \n",
    "        print()"
   ]
  },
  {
   "cell_type": "code",
   "execution_count": 141,
   "id": "61fcb882",
   "metadata": {},
   "outputs": [
    {
     "name": "stdout",
     "output_type": "stream",
     "text": [
      "5\n",
      "          1 \n",
      "        1 2 1 \n",
      "      1 2 3 1 2 \n",
      "    1 2 3 4 1 2 3 \n",
      "  1 2 3 4 5 1 2 3 4 \n"
     ]
    }
   ],
   "source": [
    "n=int(input())\n",
    "for i in range(n):\n",
    "        for j in range (i,n):\n",
    "            print(' ',end=' ')\n",
    "        for j in range (i+1):\n",
    "            print(j+1,end=' ')\n",
    "        for j in range (i):\n",
    "            print(j+1,end=' ') \n",
    "        print()"
   ]
  },
  {
   "cell_type": "code",
   "execution_count": 139,
   "id": "bd0aa902",
   "metadata": {},
   "outputs": [
    {
     "name": "stdout",
     "output_type": "stream",
     "text": [
      "5\n",
      "  1 2 3 4 1 2 3 4 5 \n",
      "    2 3 4 2 3 4 5 \n",
      "      3 4 3 4 5 \n",
      "        4 4 5 \n",
      "          5 \n"
     ]
    }
   ],
   "source": [
    "n=int(input())\n",
    "for i in range(n):\n",
    "        for j in range (i+1):\n",
    "            print(' ',end=' ')\n",
    "        for j in range (i,n-1):\n",
    "            print(j+1,end=' ')\n",
    "        for j in range (i,n):\n",
    "            print(j+1,end=' ')\n",
    "        print() "
   ]
  },
  {
   "cell_type": "code",
   "execution_count": 19,
   "id": "336b049b",
   "metadata": {},
   "outputs": [
    {
     "name": "stdout",
     "output_type": "stream",
     "text": [
      "5\n",
      "          1 \n",
      "        2 2 2 \n",
      "      3 3 3 3 3 \n",
      "    4 4 4 4 4 4 4 \n",
      "  5 5 5 5 5 5 5 5 5 \n"
     ]
    }
   ],
   "source": [
    "n=int(input())\n",
    "p=1\n",
    "for i in range(n):\n",
    "        for j in range (i,n):\n",
    "            print(' ',end=' ')\n",
    "        for j in range (i+1):\n",
    "            print(p,end=' ')\n",
    "        for j in range (i):\n",
    "            print(p,end=' ') \n",
    "        p=p+1\n",
    "        print()"
   ]
  },
  {
   "cell_type": "code",
   "execution_count": 138,
   "id": "56bcfa1b",
   "metadata": {},
   "outputs": [
    {
     "name": "stdout",
     "output_type": "stream",
     "text": [
      "5\n",
      "  5 5 5 5 5 5 5 5 5 \n",
      "    4 4 4 4 4 4 4 \n",
      "      3 3 3 3 3 \n",
      "        2 2 2 \n",
      "          1 \n"
     ]
    }
   ],
   "source": [
    "n=int(input())\n",
    "p=5\n",
    "for i in range(n):\n",
    "        for j in range (i+1):\n",
    "            print(' ',end=' ')\n",
    "        for j in range (i,n-1):\n",
    "            print(p,end=' ')\n",
    "        for j in range (i,n):\n",
    "            print(p,end=' ')\n",
    "        p=p-1\n",
    "        print() "
   ]
  },
  {
   "cell_type": "markdown",
   "id": "a49ae5ab",
   "metadata": {},
   "source": [
    "# Diamond Star Pattern:"
   ]
  },
  {
   "cell_type": "markdown",
   "id": "a5f9885c",
   "metadata": {},
   "source": [
    "# Case I: Diamond with increasing numbers."
   ]
  },
  {
   "cell_type": "code",
   "execution_count": 137,
   "id": "0e0e3b64",
   "metadata": {},
   "outputs": [
    {
     "name": "stdout",
     "output_type": "stream",
     "text": [
      "5\n",
      "          1 \n",
      "        2 2 2 \n",
      "      3 3 3 3 3 \n",
      "    4 4 4 4 4 4 4 \n",
      "  5 5 5 5 5 5 5 5 5 \n",
      "    6 6 6 6 6 6 6 \n",
      "      7 7 7 7 7 \n",
      "        8 8 8 \n",
      "          9 \n"
     ]
    }
   ],
   "source": [
    "n=int(input())\n",
    "p=1\n",
    "#code for right pyramd:\n",
    "for i in range(n-1):\n",
    "        for j in range (i,n):\n",
    "            print(' ',end=' ')\n",
    "        for j in range (0,i+1):\n",
    "            print(p,end=' ')\n",
    "        for j in range (0,i):\n",
    "            print(p,end=' ') \n",
    "        p=p+1\n",
    "        print()\n",
    "#code for reverse pyramid:\n",
    "for i in range(n):\n",
    "        for j in range (0,i+1):\n",
    "            print(' ',end=' ')\n",
    "        for j in range (i,n-1):\n",
    "            print(p,end=' ')\n",
    "        for j in range (i,n):\n",
    "            print(p,end=' ')\n",
    "        p=p+1\n",
    "        print()        "
   ]
  },
  {
   "cell_type": "markdown",
   "id": "9651db83",
   "metadata": {},
   "source": [
    "# Case II:Diamond with increasing then decreaing numbers."
   ]
  },
  {
   "cell_type": "code",
   "execution_count": 85,
   "id": "d6e244cd",
   "metadata": {},
   "outputs": [
    {
     "name": "stdout",
     "output_type": "stream",
     "text": [
      "5\n",
      "          1 \n",
      "        2 2 2 \n",
      "      3 3 3 3 3 \n",
      "    4 4 4 4 4 4 4 \n",
      "  5 5 5 5 5 5 5 5 5 \n",
      "    4 4 4 4 4 4 4 \n",
      "      3 3 3 3 3 \n",
      "        2 2 2 \n",
      "          1 \n"
     ]
    }
   ],
   "source": [
    "n=int(input())\n",
    "p=1\n",
    "#code for right pyramid:\n",
    "for i in range(n-1):\n",
    "        for j in range (i,n):\n",
    "            print(' ',end=' ')\n",
    "        for j in range (i+1):\n",
    "            print(p,end=' ')\n",
    "        for j in range (i):\n",
    "            print(p,end=' ') \n",
    "        p=p+1\n",
    "        print()\n",
    "        \n",
    "#code for reverse pyramid:\n",
    "for i in range(n):\n",
    "        for j in range (i+1):\n",
    "            print(' ',end=' ')\n",
    "        for j in range (i,n-1):\n",
    "            print(p,end=' ')\n",
    "        for j in range (i,n):\n",
    "            print(p,end=' ')\n",
    "        p=p-1\n",
    "        print()        "
   ]
  },
  {
   "cell_type": "markdown",
   "id": "fde5bdc5",
   "metadata": {},
   "source": [
    "# Right Triangle:"
   ]
  },
  {
   "cell_type": "markdown",
   "id": "1fbb2c92",
   "metadata": {},
   "source": [
    "# Case I:Increasing row / increasing column / increasing number:"
   ]
  },
  {
   "cell_type": "code",
   "execution_count": 96,
   "id": "0838b64e",
   "metadata": {},
   "outputs": [
    {
     "name": "stdout",
     "output_type": "stream",
     "text": [
      "5\n",
      "          1 \n",
      "        1 2 \n",
      "      1 2 3 \n",
      "    1 2 3 4 \n",
      "  1 2 3 4 5 \n"
     ]
    }
   ],
   "source": [
    "n=int(input())\n",
    "for i in range (n):\n",
    "    for j in range (i,n):\n",
    "        print(' ',end=' ')\n",
    "    for j in range (0,i+1):\n",
    "        print(j+1,end=' ')\n",
    "    print()"
   ]
  },
  {
   "cell_type": "markdown",
   "id": "41826896",
   "metadata": {},
   "source": [
    "# Case II: Increasing row / decreasing column / increasing number:"
   ]
  },
  {
   "cell_type": "code",
   "execution_count": 109,
   "id": "80beb0ff",
   "metadata": {},
   "outputs": [
    {
     "name": "stdout",
     "output_type": "stream",
     "text": [
      "5\n",
      "  1 2 3 4 5 \n",
      "    2 3 4 5 \n",
      "      3 4 5 \n",
      "        4 5 \n",
      "          5 \n"
     ]
    }
   ],
   "source": [
    "n=int(input())\n",
    "for i in range (n):\n",
    "    for j in range (0,i+1):\n",
    "        print(' ',end=' ')\n",
    "    for j in range (i,n):\n",
    "        print(j+1,end=' ')\n",
    "    print()"
   ]
  },
  {
   "cell_type": "markdown",
   "id": "a71fc4ba",
   "metadata": {},
   "source": [
    "# Case III: Increasing row / decreasing column / constant number:"
   ]
  },
  {
   "cell_type": "code",
   "execution_count": 127,
   "id": "77e3d179",
   "metadata": {},
   "outputs": [
    {
     "name": "stdout",
     "output_type": "stream",
     "text": [
      "5\n",
      "  1 1 1 1 1 \n",
      "    2 2 2 2 \n",
      "      3 3 3 \n",
      "        4 4 \n",
      "          5 \n"
     ]
    }
   ],
   "source": [
    "n=int(input())\n",
    "p=1\n",
    "for i in range (n):\n",
    "    for j in range (0,i+1):\n",
    "        print(' ',end=' ')\n",
    "    for j in range (i,n):\n",
    "        print(p,end=' ')\n",
    "    p=p+1\n",
    "    print()"
   ]
  },
  {
   "cell_type": "markdown",
   "id": "83885261",
   "metadata": {},
   "source": [
    "# Case III: Increasing row / increasing column / constant number:"
   ]
  },
  {
   "cell_type": "code",
   "execution_count": 129,
   "id": "fbe69272",
   "metadata": {},
   "outputs": [
    {
     "name": "stdout",
     "output_type": "stream",
     "text": [
      "5\n",
      "          1 \n",
      "        2 2 \n",
      "      3 3 3 \n",
      "    4 4 4 4 \n",
      "  5 5 5 5 5 \n"
     ]
    }
   ],
   "source": [
    "n=int(input())\n",
    "p=1\n",
    "for i in range (n):\n",
    "    for j in range(i,n):\n",
    "        print(' ',end=\" \")\n",
    "    for j in range(0,i+1):\n",
    "        print(p,end=\" \")\n",
    "    p=p+1\n",
    "    print()"
   ]
  },
  {
   "cell_type": "markdown",
   "id": "4406a3f3",
   "metadata": {},
   "source": [
    "# Left Triangle: "
   ]
  },
  {
   "cell_type": "markdown",
   "id": "2bad9ebc",
   "metadata": {},
   "source": [
    "# Case I: Increasing row / increasing column / increasing number:"
   ]
  },
  {
   "cell_type": "code",
   "execution_count": 102,
   "id": "390354f9",
   "metadata": {},
   "outputs": [
    {
     "name": "stdout",
     "output_type": "stream",
     "text": [
      "5\n",
      "1           \n",
      "1 2         \n",
      "1 2 3       \n",
      "1 2 3 4     \n",
      "1 2 3 4 5   \n"
     ]
    }
   ],
   "source": [
    "n=int(input())\n",
    "for i in range (n):\n",
    "    for j in range (0,i+1):\n",
    "        print(j+1,end=' ')\n",
    "    for j in range (i,n):\n",
    "        print(' ',end=' ')\n",
    "    print()\n",
    "    "
   ]
  },
  {
   "cell_type": "markdown",
   "id": "348d9d15",
   "metadata": {},
   "source": [
    "# Case II: Increasing row / decreasing column / increasing number:"
   ]
  },
  {
   "cell_type": "code",
   "execution_count": 2,
   "id": "613362de",
   "metadata": {},
   "outputs": [
    {
     "name": "stdout",
     "output_type": "stream",
     "text": [
      "5\n",
      "1 2 3 4 5 \n",
      "2 3 4 5 \n",
      "3 4 5 \n",
      "4 5 \n",
      "5 \n"
     ]
    }
   ],
   "source": [
    "def main():\n",
    "    # YOUR CODE GOES HERE\n",
    "    # Please take input and print output to standard input/output (stdin/stdout)\n",
    "    # E.g. 'input()/raw_input()' for input & 'print' for output\n",
    "    n=int(input())\n",
    "    for i in range (1,n+1):\n",
    "        \n",
    "        for j in range (i,n+1):\n",
    "            if i==j:    \n",
    "                print(j,end=\" \")\n",
    "            else:\n",
    "                print(j,end=\" \")\n",
    "        print()\n",
    "\n",
    "    return 0\n",
    "\n",
    "if __name__ == '__main__':\n",
    "    main()"
   ]
  },
  {
   "cell_type": "markdown",
   "id": "ece1a964",
   "metadata": {},
   "source": [
    "# Case III: Increasing row / decreasing column / constant number:"
   ]
  },
  {
   "cell_type": "code",
   "execution_count": 125,
   "id": "69a622bb",
   "metadata": {},
   "outputs": [
    {
     "name": "stdout",
     "output_type": "stream",
     "text": [
      "5\n",
      "1 1 1 1 1   \n",
      "2 2 2 2     \n",
      "3 3 3       \n",
      "4 4         \n",
      "5           \n"
     ]
    }
   ],
   "source": [
    "n=int(input())\n",
    "p=1\n",
    "for i in range (n):\n",
    "    for j in range (i,n):\n",
    "        print(p,end=' ')\n",
    "    for j in range (0,i+1):\n",
    "        print(' ',end=' ')\n",
    "    p=p+1\n",
    "    print()"
   ]
  },
  {
   "cell_type": "markdown",
   "id": "e7a46d5b",
   "metadata": {},
   "source": [
    "# Case IV: Increasing row / increasing column / constant number:"
   ]
  },
  {
   "cell_type": "code",
   "execution_count": 126,
   "id": "cfe2e597",
   "metadata": {},
   "outputs": [
    {
     "name": "stdout",
     "output_type": "stream",
     "text": [
      "5\n",
      "1           \n",
      "2 2         \n",
      "3 3 3       \n",
      "4 4 4 4     \n",
      "5 5 5 5 5   \n"
     ]
    }
   ],
   "source": [
    "n=int(input())\n",
    "p=1\n",
    "for i in range (n):\n",
    "    for j in range (0,i+1):\n",
    "        print(p,end=' ')\n",
    "    for j in range (i,n):\n",
    "        print(' ',end=' ')\n",
    "    p=p+1\n",
    "    print()"
   ]
  },
  {
   "cell_type": "markdown",
   "id": "2c3736f9",
   "metadata": {},
   "source": [
    "# Sand-Glass:"
   ]
  },
  {
   "cell_type": "code",
   "execution_count": 36,
   "id": "c36eb407",
   "metadata": {
    "scrolled": true
   },
   "outputs": [
    {
     "name": "stdout",
     "output_type": "stream",
     "text": [
      "5\n",
      "  1 2 3 4 5 1 2 3 4   \n",
      "    2 3 4 5 2 3 4     \n",
      "      3 4 5 3 4       \n",
      "        4 5 4         \n",
      "          5           \n",
      "        1 1           \n",
      "      1 2 1 2         \n",
      "    1 2 3 1 2 3       \n",
      "  1 2 3 4 1 2 3 4     \n",
      "1 2 3 4 5 1 2 3 4 5   \n"
     ]
    }
   ],
   "source": [
    "n=int(input())\n",
    "for i in range (n):  \n",
    "    for j in range (0,i+1):\n",
    "        print(' ',end=' ')\n",
    "    for j in range (i,n):\n",
    "        print(j+1,end=' ')\n",
    "    for j in range (i,n-1):\n",
    "        print(j+1,end=' ')\n",
    "    for j in range (0,i+1):\n",
    "        print(' ',end=' ')\n",
    "    print()\n",
    "for i in range(n):\n",
    "    for j in range (i,n-1):\n",
    "        print(' ',end=' ')\n",
    "    for j in range (0,i+1):\n",
    "        print(j+1,end=' ')\n",
    "    for j in range (0,i+1):\n",
    "        print(j+1,end=' ')\n",
    "    for j in range (i,n):\n",
    "        print(' ',end=' ')\n",
    "    print()"
   ]
  },
  {
   "cell_type": "markdown",
   "id": "0f86d92c",
   "metadata": {},
   "source": [
    "# Printing This Pattern"
   ]
  },
  {
   "cell_type": "markdown",
   "id": "2d9e9349",
   "metadata": {},
   "source": [
    "          1 \n",
    "        2 3 2 \n",
    "      3 4 5 4 3 \n",
    "    4 5 6 7 6 5 4 \n",
    "  5 6 7 8 9 8 7 6 5 "
   ]
  },
  {
   "cell_type": "code",
   "execution_count": 29,
   "id": "e855b158",
   "metadata": {},
   "outputs": [
    {
     "name": "stdout",
     "output_type": "stream",
     "text": [
      "5\n",
      "        1 \n",
      "      2 1 2 \n",
      "    3 2 1 2 3 \n",
      "  4 3 2 1 2 3 4 \n",
      "5 4 3 2 1 2 3 4 5 \n"
     ]
    }
   ],
   "source": [
    "n = int(input())\n",
    "for i in range (1,n+1):\n",
    "    for j in range(1,n-i+1):\n",
    "        print(\" \",end=\" \")\n",
    "    for j in range(i,0,-1):\n",
    "        print(j,end=\" \")\n",
    "    for j in range (2,i+1):\n",
    "        print(j,end=\" \")\n",
    "        \n",
    "    print()"
   ]
  },
  {
   "cell_type": "code",
   "execution_count": 35,
   "id": "c02760b7",
   "metadata": {},
   "outputs": [
    {
     "name": "stdout",
     "output_type": "stream",
     "text": [
      "5\n",
      "        0 1 2 3 4 5 \n",
      "      0 1 2 3 4 5 \n",
      "    0 1 2 3 4 5 \n",
      "  0 1 2 3 4 5 2 \n",
      "0 1 2 3 4 5 2 3 \n"
     ]
    }
   ],
   "source": [
    "n = int(input())\n",
    "for i in range (1,n+1):\n",
    "    for j in range(1,n-i+1):\n",
    "        print(\" \",end=\" \")\n",
    "    for j in range (0,n+1,+1):\n",
    "        print(j,end=\" \")\n",
    "    for j in range(2,i-1):\n",
    "        print(j,end=\" \")\n",
    "    \n",
    "        \n",
    "    print()"
   ]
  },
  {
   "cell_type": "code",
   "execution_count": 38,
   "id": "4aebb9c4",
   "metadata": {},
   "outputs": [
    {
     "name": "stdout",
     "output_type": "stream",
     "text": [
      "5\n",
      "          1 \n",
      "        1 2 \n",
      "      1 2 3 \n",
      "    1 2 3 4 \n",
      "  1 2 3 4 5 \n"
     ]
    }
   ],
   "source": [
    "n=int(input())\n",
    "for i in range(n):\n",
    "        for j in range (i,n):\n",
    "            print(' ',end=' ')\n",
    "        for j in range (0,i+1,+1):\n",
    "            print(j+1,end=' ')\n",
    "        for j in range (0,i,-1):\n",
    "            print(j+1,end=' ') \n",
    "        print()"
   ]
  },
  {
   "cell_type": "code",
   "execution_count": null,
   "id": "9265d944",
   "metadata": {},
   "outputs": [],
   "source": []
  }
 ],
 "metadata": {
  "kernelspec": {
   "display_name": "Python 3 (ipykernel)",
   "language": "python",
   "name": "python3"
  },
  "language_info": {
   "codemirror_mode": {
    "name": "ipython",
    "version": 3
   },
   "file_extension": ".py",
   "mimetype": "text/x-python",
   "name": "python",
   "nbconvert_exporter": "python",
   "pygments_lexer": "ipython3",
   "version": "3.9.7"
  }
 },
 "nbformat": 4,
 "nbformat_minor": 5
}
